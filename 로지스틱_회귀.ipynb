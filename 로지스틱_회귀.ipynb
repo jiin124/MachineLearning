{
  "nbformat": 4,
  "nbformat_minor": 0,
  "metadata": {
    "colab": {
      "name": "로지스틱 회귀",
      "provenance": [],
      "authorship_tag": "ABX9TyNyD30U6nasFzKK+TcbHF3d",
      "include_colab_link": true
    },
    "kernelspec": {
      "name": "python3",
      "display_name": "Python 3"
    }
  },
  "cells": [
    {
      "cell_type": "markdown",
      "metadata": {
        "id": "view-in-github",
        "colab_type": "text"
      },
      "source": [
        "<a href=\"https://colab.research.google.com/github/jiin124/MachineLearning/blob/main/%EB%A1%9C%EC%A7%80%EC%8A%A4%ED%8B%B1_%ED%9A%8C%EA%B7%80.ipynb\" target=\"_parent\"><img src=\"https://colab.research.google.com/assets/colab-badge.svg\" alt=\"Open In Colab\"/></a>"
      ]
    },
    {
      "cell_type": "code",
      "metadata": {
        "colab": {
          "base_uri": "https://localhost:8080/",
          "height": 195
        },
        "id": "0SkjHTN8eO1k",
        "outputId": "71203f78-b352-41e3-a98d-c221f69e04fe"
      },
      "source": [
        "import pandas as pd\r\n",
        "fish=pd.read_csv('http://bit.ly/fish_csv')\r\n",
        "fish.head()"
      ],
      "execution_count": 5,
      "outputs": [
        {
          "output_type": "execute_result",
          "data": {
            "text/html": [
              "<div>\n",
              "<style scoped>\n",
              "    .dataframe tbody tr th:only-of-type {\n",
              "        vertical-align: middle;\n",
              "    }\n",
              "\n",
              "    .dataframe tbody tr th {\n",
              "        vertical-align: top;\n",
              "    }\n",
              "\n",
              "    .dataframe thead th {\n",
              "        text-align: right;\n",
              "    }\n",
              "</style>\n",
              "<table border=\"1\" class=\"dataframe\">\n",
              "  <thead>\n",
              "    <tr style=\"text-align: right;\">\n",
              "      <th></th>\n",
              "      <th>Species</th>\n",
              "      <th>Weight</th>\n",
              "      <th>Length</th>\n",
              "      <th>Diagonal</th>\n",
              "      <th>Height</th>\n",
              "      <th>Width</th>\n",
              "    </tr>\n",
              "  </thead>\n",
              "  <tbody>\n",
              "    <tr>\n",
              "      <th>0</th>\n",
              "      <td>Bream</td>\n",
              "      <td>242.0</td>\n",
              "      <td>25.4</td>\n",
              "      <td>30.0</td>\n",
              "      <td>11.5200</td>\n",
              "      <td>4.0200</td>\n",
              "    </tr>\n",
              "    <tr>\n",
              "      <th>1</th>\n",
              "      <td>Bream</td>\n",
              "      <td>290.0</td>\n",
              "      <td>26.3</td>\n",
              "      <td>31.2</td>\n",
              "      <td>12.4800</td>\n",
              "      <td>4.3056</td>\n",
              "    </tr>\n",
              "    <tr>\n",
              "      <th>2</th>\n",
              "      <td>Bream</td>\n",
              "      <td>340.0</td>\n",
              "      <td>26.5</td>\n",
              "      <td>31.1</td>\n",
              "      <td>12.3778</td>\n",
              "      <td>4.6961</td>\n",
              "    </tr>\n",
              "    <tr>\n",
              "      <th>3</th>\n",
              "      <td>Bream</td>\n",
              "      <td>363.0</td>\n",
              "      <td>29.0</td>\n",
              "      <td>33.5</td>\n",
              "      <td>12.7300</td>\n",
              "      <td>4.4555</td>\n",
              "    </tr>\n",
              "    <tr>\n",
              "      <th>4</th>\n",
              "      <td>Bream</td>\n",
              "      <td>430.0</td>\n",
              "      <td>29.0</td>\n",
              "      <td>34.0</td>\n",
              "      <td>12.4440</td>\n",
              "      <td>5.1340</td>\n",
              "    </tr>\n",
              "  </tbody>\n",
              "</table>\n",
              "</div>"
            ],
            "text/plain": [
              "  Species  Weight  Length  Diagonal   Height   Width\n",
              "0   Bream   242.0    25.4      30.0  11.5200  4.0200\n",
              "1   Bream   290.0    26.3      31.2  12.4800  4.3056\n",
              "2   Bream   340.0    26.5      31.1  12.3778  4.6961\n",
              "3   Bream   363.0    29.0      33.5  12.7300  4.4555\n",
              "4   Bream   430.0    29.0      34.0  12.4440  5.1340"
            ]
          },
          "metadata": {
            "tags": []
          },
          "execution_count": 5
        }
      ]
    },
    {
      "cell_type": "markdown",
      "metadata": {
        "id": "_D3TbQCjzndU"
      },
      "source": [
        "어떤 종류의 생선이 있는지 species 열에서 고유한 값 추출해보기"
      ]
    },
    {
      "cell_type": "code",
      "metadata": {
        "colab": {
          "base_uri": "https://localhost:8080/"
        },
        "id": "iK_fNCJsyD1s",
        "outputId": "caca61cb-da59-4bbc-c006-01f8674c2106"
      },
      "source": [
        "print(pd.unique(fish['Species']))"
      ],
      "execution_count": 3,
      "outputs": [
        {
          "output_type": "stream",
          "text": [
            "['Bream' 'Roach' 'Whitefish' 'Parkki' 'Perch' 'Pike' 'Smelt']\n"
          ],
          "name": "stdout"
        }
      ]
    },
    {
      "cell_type": "code",
      "metadata": {
        "id": "o-XKX85n0Owg"
      },
      "source": [
        "fish_input=fish[['Weight','Length','Diagonal','Height','Width']].to_numpy()"
      ],
      "execution_count": 6,
      "outputs": []
    },
    {
      "cell_type": "markdown",
      "metadata": {
        "id": "xXp0tfJD0qnp"
      },
      "source": [
        "Species 열을 타깃으로 만들고 나머지 5개 열은 입력 데이터로 사용한다. "
      ]
    },
    {
      "cell_type": "code",
      "metadata": {
        "colab": {
          "base_uri": "https://localhost:8080/"
        },
        "id": "w7E5XMZ40owD",
        "outputId": "b660208c-6ce6-4d19-bd7f-e28d760f6d82"
      },
      "source": [
        "print(fish_input[:5])"
      ],
      "execution_count": 7,
      "outputs": [
        {
          "output_type": "stream",
          "text": [
            "[[242.      25.4     30.      11.52     4.02  ]\n",
            " [290.      26.3     31.2     12.48     4.3056]\n",
            " [340.      26.5     31.1     12.3778   4.6961]\n",
            " [363.      29.      33.5     12.73     4.4555]\n",
            " [430.      29.      34.      12.444    5.134 ]]\n"
          ],
          "name": "stdout"
        }
      ]
    },
    {
      "cell_type": "code",
      "metadata": {
        "id": "lAFLL6LK00hk"
      },
      "source": [
        "fish_target=fish['Species'].to_numpy()"
      ],
      "execution_count": 8,
      "outputs": []
    },
    {
      "cell_type": "code",
      "metadata": {
        "id": "AT-7anS106Oc"
      },
      "source": [
        "from sklearn.model_selection import train_test_split\r\n",
        "train_input,test_input, train_target,test_target=train_test_split(fish_input,fish_target,random_state=42)"
      ],
      "execution_count": 9,
      "outputs": []
    },
    {
      "cell_type": "code",
      "metadata": {
        "id": "m3ueiFya1K0P"
      },
      "source": [
        "from sklearn.preprocessing import StandardScaler\r\n",
        "ss=StandardScaler()\r\n",
        "ss.fit(train_input)\r\n",
        "train_scaled=ss.transform(train_input)\r\n",
        "test_scaled=ss.transform(test_input)"
      ],
      "execution_count": 11,
      "outputs": []
    },
    {
      "cell_type": "markdown",
      "metadata": {
        "id": "pFH3KeGr1xYK"
      },
      "source": [
        "### 최근접 이웃 분류기의 확률 예측\r\n",
        "\r\n",
        "KNeighbors 클래스 객체를 만들고 훈련세트로 모델을 훈련한 다음 훈련 세트와 테스트 세트의 점수를 확인해보자 \r\n",
        "최근 접 이웃개수를 3으로 정한다"
      ]
    },
    {
      "cell_type": "code",
      "metadata": {
        "colab": {
          "base_uri": "https://localhost:8080/"
        },
        "id": "yBz3kqIL1tQr",
        "outputId": "dca81015-ee59-45a3-983b-49ea783c80de"
      },
      "source": [
        "from sklearn.neighbors import KNeighborsClassifier\r\n",
        "kn=KNeighborsClassifier(n_neighbors=3)\r\n",
        "kn.fit(train_scaled,train_target)\r\n",
        "print(kn.score(train_scaled,train_target))\r\n",
        "print(kn.score(test_scaled,test_target))"
      ],
      "execution_count": 14,
      "outputs": [
        {
          "output_type": "stream",
          "text": [
            "0.8907563025210085\n",
            "0.85\n"
          ],
          "name": "stdout"
        }
      ]
    },
    {
      "cell_type": "markdown",
      "metadata": {
        "id": "Rx75Cnny2jzt"
      },
      "source": [
        "아까 species 에서 생선이 7마리 였다. 그래서 훈련세트와 테스트 세트의 타깃 데이터에도 7개의 생선종류가 들어가있다. \r\n",
        "타깃 데이터에 2개 이상의 클래스가 포함된 문제를 다중 분류라고 한다. \r\n",
        "\r\n",
        "이진 분류를 사용했을 때는 양성 클래스와 음성 클래스를 각각 1과 0으로 바꾸어 타깃 데이터를 만들었다. 다중 분류에서도 타깃값을 숫자로 바꾸어 입력 할 수 있지만 사이킷런에서는 편리하게 문자열로 된 타깃값을 그대로 사용할 수 있다. \r\n",
        "\r\n",
        "하지만 타깃값을 그대로 사이킷런 모델에 전달하면 순서가 자동으로 알파벳 순으로 매겨진자. "
      ]
    },
    {
      "cell_type": "code",
      "metadata": {
        "colab": {
          "base_uri": "https://localhost:8080/"
        },
        "id": "zoLPK1TC2VRl",
        "outputId": "97407438-de6a-4c99-c36a-dc70ec633333"
      },
      "source": [
        "print(kn.classes_)#정렬된 타깃값은 classes_속성에 저장되어있다"
      ],
      "execution_count": 16,
      "outputs": [
        {
          "output_type": "stream",
          "text": [
            "['Bream' 'Parkki' 'Perch' 'Pike' 'Roach' 'Smelt' 'Whitefish']\n"
          ],
          "name": "stdout"
        }
      ]
    },
    {
      "cell_type": "code",
      "metadata": {
        "colab": {
          "base_uri": "https://localhost:8080/"
        },
        "id": "1hzC45If33Ta",
        "outputId": "b048fbcb-dc7e-48b5-ab8c-2a4a9722a415"
      },
      "source": [
        "print(kn.predict(test_scaled[:5]))"
      ],
      "execution_count": 17,
      "outputs": [
        {
          "output_type": "stream",
          "text": [
            "['Perch' 'Smelt' 'Pike' 'Perch' 'Perch']\n"
          ],
          "name": "stdout"
        }
      ]
    },
    {
      "cell_type": "code",
      "metadata": {
        "colab": {
          "base_uri": "https://localhost:8080/"
        },
        "id": "ZwJXus3u4AYu",
        "outputId": "b2460814-856b-41f2-9b89-8bddcabe7bc1"
      },
      "source": [
        "import numpy as np\r\n",
        "proba=kn.predict_proba(test_scaled[:5])#클래스별 확률 값을 반환한다. \r\n",
        "print(np.round(proba,decimals=4))#소수점 네번 쨰 자리까지 표기 다섯번째 자리에서 반올림"
      ],
      "execution_count": 18,
      "outputs": [
        {
          "output_type": "stream",
          "text": [
            "[[0.     0.     1.     0.     0.     0.     0.    ]\n",
            " [0.     0.     0.     0.     0.     1.     0.    ]\n",
            " [0.     0.     0.     1.     0.     0.     0.    ]\n",
            " [0.     0.     0.6667 0.     0.3333 0.     0.    ]\n",
            " [0.     0.     0.6667 0.     0.3333 0.     0.    ]]\n"
          ],
          "name": "stdout"
        }
      ]
    },
    {
      "cell_type": "markdown",
      "metadata": {
        "id": "TEcPiX8A6v7v"
      },
      "source": [
        "이 행렬에서 첫번째 열에 있는 것은 bream에 대한 확률, 두번째 열에 있는 것은 parkki에 대한 확률\r\n",
        "\r\n",
        "4번째 샘플을 보면\r\n",
        "[0.     0.     0.6667 0.     0.3333 0.     0.    ]\r\n",
        "이다"
      ]
    },
    {
      "cell_type": "code",
      "metadata": {
        "colab": {
          "base_uri": "https://localhost:8080/"
        },
        "id": "jVOs00TN5lyc",
        "outputId": "844a13af-cc28-4af6-c89a-415f619ed085"
      },
      "source": [
        "distances,indexes=kn.kneighbors(test_scaled[3:4])\r\n",
        "print(train_target[indexes])"
      ],
      "execution_count": 19,
      "outputs": [
        {
          "output_type": "stream",
          "text": [
            "[['Roach' 'Perch' 'Perch']]\n"
          ],
          "name": "stdout"
        }
      ]
    },
    {
      "cell_type": "markdown",
      "metadata": {
        "id": "wSi5UQe078gV"
      },
      "source": [
        "다섯번재 클래스인 Roach가 1개이고, perch가 2개이다. 다섯번째 클래스에 대한 확률은 1/3==0.3333이고 2/3==0.6667 이다. \r\n",
        "\r\n",
        " [0.     0.     0.6667 0.     0.3333 0.     0.    ] 을 보면 정확하다!!\r\n",
        "\r\n",
        " 하지만 3개의 최근접 이웃을 사용하기 때문에 가능한 확률은 0/3,1/3,2/3,3/3 이 전부이다."
      ]
    },
    {
      "cell_type": "markdown",
      "metadata": {
        "id": "EFFEJpzC9GPh"
      },
      "source": [
        "## 로지스틱 회귀\r\n",
        "\r\n",
        "선형회귀와 동일하게 선형 방정식을 학습한다.\r\n",
        "z=a * (weight) + b * (length)+ c * (diagonal) +d * (height)+e * (width) +f\r\n",
        "\r\n",
        "여기서 a,b,c,d,e는 가중치 혹은 계수이다. 특성은 늘어났지만 다중회귀를 위한 선형방적식과 같다. \r\n",
        "\r\n",
        "하지만 확률이 되려면 0~1사이 값이 되어야 한다. z가 아주 큰 음수일 때 0이 되고, z가 큰 양수일 때 1이 되도록 바꾸는 방법은 **시그모이드 함수(또는 로지스틱 함수)를 사용하면 된다**"
      ]
    },
    {
      "cell_type": "code",
      "metadata": {
        "colab": {
          "base_uri": "https://localhost:8080/",
          "height": 279
        },
        "id": "O6rGMTLr6_wq",
        "outputId": "0f8bac72-de48-4c01-b01b-b92c0924f599"
      },
      "source": [
        "import numpy as np\r\n",
        "import matplotlib.pyplot as plt\r\n",
        "z=np.arange(-5,5,0.1)#-5와 5 사이에 0.1 간격ㅇ로 배열 z를 만든 다음 z ㅜ이치마다 시그모이드 함수를 계산한다. \r\n",
        "phi=1/(1+np.exp(-z))#지수 함수 계산은 np.exp() 함수를 이용한다. \r\n",
        "plt.plot(z,phi)\r\n",
        "plt.xlabel('z')\r\n",
        "plt.ylabel('phi')\r\n",
        "plt.show()"
      ],
      "execution_count": 20,
      "outputs": [
        {
          "output_type": "display_data",
          "data": {
            "image/png": "[encoded data removed]",
            "text/plain": [
              "<Figure size 432x288 with 1 Axes>"
            ]
          },
          "metadata": {
            "tags": [],
            "needs_background": "light"
          }
        }
      ]
    },
    {
      "cell_type": "markdown",
      "metadata": {
        "id": "Vf8bnNZ5K-Og"
      },
      "source": [
        "## 로지스틱 회귀로 이진 분류 수행하기\r\n",
        "\r\n",
        "넘파이 배열은 true false 값을 전달해 행을 선택 할 수 있다. 이를 불리언 인덱싱이라고 한다. "
      ]
    },
    {
      "cell_type": "code",
      "metadata": {
        "colab": {
          "base_uri": "https://localhost:8080/"
        },
        "id": "pF0aaBiQK8dW",
        "outputId": "4e7b3451-7e58-453b-9888-da9eebba345f"
      },
      "source": [
        "char_arr=np.array(['A','B','C','D','E'])#A와 c만 골라내는 방법\r\n",
        "print(char_arr[[True,False,True,False,False]])"
      ],
      "execution_count": 22,
      "outputs": [
        {
          "output_type": "stream",
          "text": [
            "['A' 'C']\n"
          ],
          "name": "stdout"
        }
      ]
    },
    {
      "cell_type": "code",
      "metadata": {
        "id": "e2w5uzwbLv4d"
      },
      "source": [
        "bream_smelt_indexes=(train_target=='Bream')|(train_target=='Smelt')\r\n",
        "train_bream_smelt=train_scaled[bream_smelt_indexes]\r\n",
        "target_bream_smelt=train_target[bream_smelt_indexes]#도미와 빙어의 행만 골라내기"
      ],
      "execution_count": 23,
      "outputs": []
    },
    {
      "cell_type": "code",
      "metadata": {
        "colab": {
          "base_uri": "https://localhost:8080/"
        },
        "id": "PuOWDXY9MTKa",
        "outputId": "fb2c7ce2-c7e8-4a9c-b50d-609a08b0abc9"
      },
      "source": [
        "from sklearn.linear_model import LogisticRegression\r\n",
        "lr=LogisticRegression()\r\n",
        "lr.fit(train_bream_smelt,target_bream_smelt)\r\n"
      ],
      "execution_count": 24,
      "outputs": [
        {
          "output_type": "execute_result",
          "data": {
            "text/plain": [
              "LogisticRegression(C=1.0, class_weight=None, dual=False, fit_intercept=True,\n",
              "                   intercept_scaling=1, l1_ratio=None, max_iter=100,\n",
              "                   multi_class='auto', n_jobs=None, penalty='l2',\n",
              "                   random_state=None, solver='lbfgs', tol=0.0001, verbose=0,\n",
              "                   warm_start=False)"
            ]
          },
          "metadata": {
            "tags": []
          },
          "execution_count": 24
        }
      ]
    },
    {
      "cell_type": "code",
      "metadata": {
        "colab": {
          "base_uri": "https://localhost:8080/"
        },
        "id": "jf7WpbaMMemd",
        "outputId": "14876a95-e2bc-483c-9115-cf85d2d02aea"
      },
      "source": [
        "print(lr.predict(train_bream_smelt[:5]))"
      ],
      "execution_count": 25,
      "outputs": [
        {
          "output_type": "stream",
          "text": [
            "['Bream' 'Smelt' 'Bream' 'Bream' 'Bream']\n"
          ],
          "name": "stdout"
        }
      ]
    },
    {
      "cell_type": "code",
      "metadata": {
        "colab": {
          "base_uri": "https://localhost:8080/"
        },
        "id": "maukpkx4NLrS",
        "outputId": "b9b83b8a-42b4-4f9c-dffa-45c6264c64c5"
      },
      "source": [
        "print(lr.predict_proba(train_bream_smelt[:5]))#예측 확률, 첫번째 열이 음성 클래스 0 에 대한 확률이고 두번재 열이 양성 클래스 1에 대한 확률이다. "
      ],
      "execution_count": 26,
      "outputs": [
        {
          "output_type": "stream",
          "text": [
            "[[0.99759855 0.00240145]\n",
            " [0.02735183 0.97264817]\n",
            " [0.99486072 0.00513928]\n",
            " [0.98584202 0.01415798]\n",
            " [0.99767269 0.00232731]]\n"
          ],
          "name": "stdout"
        }
      ]
    },
    {
      "cell_type": "code",
      "metadata": {
        "colab": {
          "base_uri": "https://localhost:8080/"
        },
        "id": "lt4qUDTdNQin",
        "outputId": "12210ea8-dee3-46f7-d763-ea3a78b07af7"
      },
      "source": [
        "print(lr.classes_)#빙어smelt가 양성클래스 이다. "
      ],
      "execution_count": 27,
      "outputs": [
        {
          "output_type": "stream",
          "text": [
            "['Bream' 'Smelt']\n"
          ],
          "name": "stdout"
        }
      ]
    },
    {
      "cell_type": "code",
      "metadata": {
        "colab": {
          "base_uri": "https://localhost:8080/"
        },
        "id": "XOpv_ZonNqgI",
        "outputId": "c289ad51-6454-4e43-af54-4d04019445d7"
      },
      "source": [
        "print(lr.coef_,lr.intercept_)#로지스틱 회귀가 학습한 계수"
      ],
      "execution_count": 28,
      "outputs": [
        {
          "output_type": "stream",
          "text": [
            "[[-0.4037798  -0.57620209 -0.66280298 -1.01290277 -0.73168947]] [-2.16155132]\n"
          ],
          "name": "stdout"
        }
      ]
    },
    {
      "cell_type": "code",
      "metadata": {
        "colab": {
          "base_uri": "https://localhost:8080/"
        },
        "id": "AfUZtn_hN-Jo",
        "outputId": "61aaabf7-fa36-4862-d4bc-d984cd3aea56"
      },
      "source": [
        "decisions=lr.decision_function(train_bream_smelt[:5])#z값을 계산, LogisticRegression 클래스의 decision_function() 메서드로 z값 출력 가능\r\n",
        "print(decisions)"
      ],
      "execution_count": 29,
      "outputs": [
        {
          "output_type": "stream",
          "text": [
            "[-6.02927744  3.57123907 -5.26568906 -4.24321775 -6.0607117 ]\n"
          ],
          "name": "stdout"
        }
      ]
    },
    {
      "cell_type": "code",
      "metadata": {
        "colab": {
          "base_uri": "https://localhost:8080/"
        },
        "id": "JKNvPrucOHuY",
        "outputId": "84482200-956f-4751-d04b-10861d5a5f5a"
      },
      "source": [
        "from scipy.special import expit\r\n",
        "print(expit(decisions))"
      ],
      "execution_count": 31,
      "outputs": [
        {
          "output_type": "stream",
          "text": [
            "[0.00240145 0.97264817 0.00513928 0.01415798 0.00232731]\n"
          ],
          "name": "stdout"
        }
      ]
    },
    {
      "cell_type": "markdown",
      "metadata": {
        "id": "s26R1CawQOBx"
      },
      "source": [
        "출력된 값을 보면 predict() 메서드 출력의 두번째 열의 값과 동일하다 즉, decision_function() 메서드는 양성 클래스에 대한 z값을 반환한다. \r\n",
        "\r\n",
        "이진 분류를 위해 2개의 생선 샘플을 골란ㅆ고 이를 사용해 로지스틱 회귀 모델을 훈련했다. \r\n",
        "이진분류일 경우** predict_proba() **메서드는 음성 클래스와 양성 클래스에 대한 확률을 출력한다. 또 **decision_function() **메서드는 양성 클래스에 대한 z값을 계산한다. 또 coef_ 속성과 intercept 속성에는 로지스틱 모델이 학습한 선형 방정식의 계수가 들어가 있다. "
      ]
    },
    {
      "cell_type": "code",
      "metadata": {
        "id": "oXsStFzZPsqy"
      },
      "source": [
        ""
      ],
      "execution_count": null,
      "outputs": []
    }
  ]
}
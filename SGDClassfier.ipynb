{
  "nbformat": 4,
  "nbformat_minor": 0,
  "metadata": {
    "colab": {
      "name": "SGDClassfier",
      "provenance": [],
      "authorship_tag": "ABX9TyOYi+Lz1Nrd08knw9A2xNbC",
      "include_colab_link": true
    },
    "kernelspec": {
      "name": "python3",
      "display_name": "Python 3"
    }
  },
  "cells": [
    {
      "cell_type": "markdown",
      "metadata": {
        "id": "view-in-github",
        "colab_type": "text"
      },
      "source": [
        "<a href=\"https://colab.research.google.com/github/jiin124/MachineLearning/blob/main/SGDClassfier.ipynb\" target=\"_parent\"><img src=\"https://colab.research.google.com/assets/colab-badge.svg\" alt=\"Open In Colab\"/></a>"
      ]
    },
    {
      "cell_type": "code",
      "metadata": {
        "id": "40WQNkGTuNY4"
      },
      "source": [
        "import pandas as pd\r\n",
        "fish=pd.read_csv(\"http://bit.ly/fish_csv\")"
      ],
      "execution_count": 20,
      "outputs": []
    },
    {
      "cell_type": "code",
      "metadata": {
        "id": "ZDsifHT-8zlw"
      },
      "source": [
        "fish_input=fish[['Weight','Length','Diagonal','Height','Width']].to_numpy()\r\n",
        "fish_target=fish['Species'].to_numpy()"
      ],
      "execution_count": 21,
      "outputs": []
    },
    {
      "cell_type": "code",
      "metadata": {
        "id": "DFBW2OiZ-WSo"
      },
      "source": [
        "from sklearn.model_selection import train_test_split\r\n",
        "train_input,test_input,train_target,test_target=train_test_split(fish_input,fish_target,random_state=42)"
      ],
      "execution_count": 22,
      "outputs": []
    },
    {
      "cell_type": "code",
      "metadata": {
        "id": "E1I45ZNo-lbL"
      },
      "source": [
        "from sklearn.preprocessing import StandardScaler\r\n",
        "ss=StandardScaler()\r\n",
        "ss.fit(train_input)\r\n",
        "train_scaled=ss.transform(train_input)\r\n",
        "test_scaled=ss.transform(test_input)"
      ],
      "execution_count": 23,
      "outputs": []
    },
    {
      "cell_type": "markdown",
      "metadata": {
        "id": "_XgTM4e9_aBv"
      },
      "source": [
        "사이킷런에서 확률적 경사 하강법을 제공하는 대표적인 분류용 클래스 SGDClassfier를 임포트 해보겠다\r\n",
        "SGDClassifier의 객체를 만들 때 2개의 매개변수를 지정한다. \r\n",
        "loss는 손실함수의 종류를 지정하고 log로 지정해 로지스틱 손실함수를 지정했다. \r\n",
        "max_iter은 수행할 에포크 횟수를 지정한다. 10으로 지정해 훈련세트를 10회 반복했다. \r\n",
        "훈련세트와 테스트 세트에서 정확도 점수를 출력한다. "
      ]
    },
    {
      "cell_type": "code",
      "metadata": {
        "colab": {
          "base_uri": "https://localhost:8080/"
        },
        "id": "P1xCnvpa-0zg",
        "outputId": "51e4fba2-c77e-4f2d-ca49-83c1d0dae470"
      },
      "source": [
        "from sklearn.linear_model import SGDClassifier\r\n",
        "\r\n",
        "sc=SGDClassifier(loss='log',max_iter=10,random_state=42)\r\n",
        "sc.fit(train_scaled,train_target)\r\n",
        "print(sc.score(train_scaled,train_target))\r\n",
        "print(sc.score(test_scaled,test_target))\r\n"
      ],
      "execution_count": 26,
      "outputs": [
        {
          "output_type": "stream",
          "text": [
            "0.773109243697479\n",
            "0.775\n"
          ],
          "name": "stdout"
        },
        {
          "output_type": "stream",
          "text": [
            "/usr/local/lib/python3.6/dist-packages/sklearn/linear_model/_stochastic_gradient.py:557: ConvergenceWarning: Maximum number of iteration reached before convergence. Consider increasing max_iter to improve the fit.\n",
            "  ConvergenceWarning)\n"
          ],
          "name": "stderr"
        }
      ]
    },
    {
      "cell_type": "markdown",
      "metadata": {
        "id": "Mk65SW2WBnWj"
      },
      "source": [
        "점수가 낮다. SGDClassifier 객체를 다시 만들지 않고, 훈련한 모델 sc를 추가로 더 훈련해보자, 모델을 이어서 훈련할 때는 partial_fit()메서드를 사용한다. \r\n",
        "fit()과 비슷해 보이지만 호출할 때마다 1 에포크씩 이어서 훈련할 수 있다. partial_fit() 메서드를 호출하고 다시 훈련세트와 테스트 세트의 점수를 확인해보자"
      ]
    },
    {
      "cell_type": "code",
      "metadata": {
        "colab": {
          "base_uri": "https://localhost:8080/"
        },
        "id": "p0V-7B3kA8qS",
        "outputId": "0683fab4-8ac2-47f6-f7bc-5cc1168e40de"
      },
      "source": [
        "sc.partial_fit(train_scaled,train_target)\r\n",
        "print(sc.score(train_scaled,train_target))\r\n",
        "print(sc.score(test_scaled,test_target))"
      ],
      "execution_count": 27,
      "outputs": [
        {
          "output_type": "stream",
          "text": [
            "0.8151260504201681\n",
            "0.825\n"
          ],
          "name": "stdout"
        }
      ]
    },
    {
      "cell_type": "markdown",
      "metadata": {
        "id": "7p7ppaPUERhA"
      },
      "source": [
        "# 에포크와 과대/과소적합"
      ]
    },
    {
      "cell_type": "code",
      "metadata": {
        "id": "Ckh3HRfMCvJK"
      },
      "source": [
        "import numpy as np\r\n",
        "sc=SGDClassifier(loss='log',random_state=42)\r\n",
        "train_score=[]\r\n",
        "test_score=[]\r\n",
        "classes=np.unique(train_target)"
      ],
      "execution_count": 28,
      "outputs": []
    },
    {
      "cell_type": "markdown",
      "metadata": {
        "id": "zr_XAnYnF6Qu"
      },
      "source": [
        "300번의 에포크 동안 훈련을 반복해 진행"
      ]
    },
    {
      "cell_type": "code",
      "metadata": {
        "id": "as1zWZJAElBk"
      },
      "source": [
        "for _ in range(0,300):\r\n",
        "  sc.partial_fit(train_scaled,train_target,classes=classes)\r\n",
        "  train_score.append(sc.score(train_scaled,train_target))\r\n",
        "  test_score.append(sc.score(test_scaled,test_target))"
      ],
      "execution_count": 30,
      "outputs": []
    },
    {
      "cell_type": "code",
      "metadata": {
        "colab": {
          "base_uri": "https://localhost:8080/",
          "height": 279
        },
        "id": "H1XkSgvTF4lz",
        "outputId": "f3406376-a1ac-4ada-a0f2-6bd3408f7bb7"
      },
      "source": [
        "import matplotlib.pyplot as plt\r\n",
        "plt.plot(train_score)\r\n",
        "plt.plot(test_score)\r\n",
        "plt.xlabel('epoch')\r\n",
        "plt.ylabel('accuracy')\r\n",
        "plt.show()"
      ],
      "execution_count": 31,
      "outputs": [
        {
          "output_type": "display_data",
          "data": {
            "image/png": "[encoded data removed]",
            "text/plain": [
              "<Figure size 432x288 with 1 Axes>"
            ]
          },
          "metadata": {
            "tags": [],
            "needs_background": "light"
          }
        }
      ]
    },
    {
      "cell_type": "markdown",
      "metadata": {
        "id": "7YBfMJoHI3LI"
      },
      "source": [
        "파란색이 훈련세트, 주황색이 테스트 세트 그래프"
      ]
    },
    {
      "cell_type": "code",
      "metadata": {
        "colab": {
          "base_uri": "https://localhost:8080/"
        },
        "id": "Ct1_pfNEI19G",
        "outputId": "926a1ab1-efa4-47db-8c1c-a5de2dd7b648"
      },
      "source": [
        "sc=SGDClassifier(loss='log',max_iter=100,tol=None,random_state=42)\r\n",
        "sc.fit(train_scaled,train_target)\r\n",
        "print(sc.score(train_scaled,train_target))\r\n",
        "print(sc.score(test_scaled,test_target))"
      ],
      "execution_count": 32,
      "outputs": [
        {
          "output_type": "stream",
          "text": [
            "0.957983193277311\n",
            "0.925\n"
          ],
          "name": "stdout"
        }
      ]
    },
    {
      "cell_type": "code",
      "metadata": {
        "id": "nXkE7rjyJS9d"
      },
      "source": [
        "sc=SGDClassifier(loss='hinge',max_iter=100,tol=None)"
      ],
      "execution_count": null,
      "outputs": []
    }
  ]
}
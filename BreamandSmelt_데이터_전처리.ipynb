{
  "nbformat": 4,
  "nbformat_minor": 0,
  "metadata": {
    "colab": {
      "name": "BreamandSmelt 데이터 전처리",
      "provenance": [],
      "authorship_tag": "ABX9TyOnLaBlNeP+Aogll9awb5t6",
      "include_colab_link": true
    },
    "kernelspec": {
      "name": "python3",
      "display_name": "Python 3"
    }
  },
  "cells": [
    {
      "cell_type": "markdown",
      "metadata": {
        "id": "view-in-github",
        "colab_type": "text"
      },
      "source": [
        "<a href=\"https://colab.research.google.com/github/jiin124/MachineLearning/blob/main/BreamandSmelt_%EB%8D%B0%EC%9D%B4%ED%84%B0_%EC%A0%84%EC%B2%98%EB%A6%AC.ipynb\" target=\"_parent\"><img src=\"https://colab.research.google.com/assets/colab-badge.svg\" alt=\"Open In Colab\"/></a>"
      ]
    },
    {
      "cell_type": "code",
      "metadata": {
        "id": "6gYwKVUSNjhf"
      },
      "source": [
        "fish_length = [25.4, 26.3, 26.5, 29.0, 29.0, 29.7, 29.7, 30.0, 30.0, 30.7, 31.0, 31.0, \r\n",
        "                31.5, 32.0, 32.0, 32.0, 33.0, 33.0, 33.5, 33.5, 34.0, 34.0, 34.5, 35.0, \r\n",
        "                35.0, 35.0, 35.0, 36.0, 36.0, 37.0, 38.5, 38.5, 39.5, 41.0, 41.0, 9.8, \r\n",
        "                10.5, 10.6, 11.0, 11.2, 11.3, 11.8, 11.8, 12.0, 12.2, 12.4, 13.0, 14.3, 15.0]\r\n",
        "fish_weight = [242.0, 290.0, 340.0, 363.0, 430.0, 450.0, 500.0, 390.0, 450.0, 500.0, 475.0, 500.0, \r\n",
        "                500.0, 340.0, 600.0, 600.0, 700.0, 700.0, 610.0, 650.0, 575.0, 685.0, 620.0, 680.0, \r\n",
        "                700.0, 725.0, 720.0, 714.0, 850.0, 1000.0, 920.0, 955.0, 925.0, 975.0, 950.0, 6.7, \r\n",
        "                7.5, 7.0, 9.7, 9.8, 8.7, 10.0, 9.9, 9.8, 12.2, 13.4, 12.2, 19.7, 19.9]"
      ],
      "execution_count": 1,
      "outputs": []
    },
    {
      "cell_type": "code",
      "metadata": {
        "id": "aHU51Op3Omd6"
      },
      "source": [
        "import numpy as np"
      ],
      "execution_count": 2,
      "outputs": []
    },
    {
      "cell_type": "code",
      "metadata": {
        "colab": {
          "base_uri": "https://localhost:8080/"
        },
        "id": "S9yeVBVMOpby",
        "outputId": "595a2c58-2c2e-4c5e-eab3-725a5593c7a3"
      },
      "source": [
        "np.column_stack(([1,2,3],[4,5,6]))"
      ],
      "execution_count": 3,
      "outputs": [
        {
          "output_type": "execute_result",
          "data": {
            "text/plain": [
              "array([[1, 4],\n",
              "       [2, 5],\n",
              "       [3, 6]])"
            ]
          },
          "metadata": {
            "tags": []
          },
          "execution_count": 3
        }
      ]
    },
    {
      "cell_type": "markdown",
      "metadata": {
        "id": "hB2JPPrFPNiw"
      },
      "source": [
        "column_stack은 전달받은 리스트를 일렬로 세운 다음 차례대로 나란히 연결한다. "
      ]
    },
    {
      "cell_type": "code",
      "metadata": {
        "id": "IRH33rpCOtaR"
      },
      "source": [
        "fish_data=np.column_stack((fish_length,fish_weight))"
      ],
      "execution_count": 4,
      "outputs": []
    },
    {
      "cell_type": "code",
      "metadata": {
        "colab": {
          "base_uri": "https://localhost:8080/"
        },
        "id": "9R7kOxmhQTLV",
        "outputId": "680fcce6-6b06-458d-95b7-294013f7ac3a"
      },
      "source": [
        "print(fish_data[:5])"
      ],
      "execution_count": 6,
      "outputs": [
        {
          "output_type": "stream",
          "text": [
            "[[ 25.4 242. ]\n",
            " [ 26.3 290. ]\n",
            " [ 26.5 340. ]\n",
            " [ 29.  363. ]\n",
            " [ 29.  430. ]]\n"
          ],
          "name": "stdout"
        }
      ]
    },
    {
      "cell_type": "code",
      "metadata": {
        "colab": {
          "base_uri": "https://localhost:8080/"
        },
        "id": "4XC2dFkbQVk_",
        "outputId": "94e0be4f-84a2-4be8-a4fb-e01919aa7482"
      },
      "source": [
        "print(np.ones(5))"
      ],
      "execution_count": 7,
      "outputs": [
        {
          "output_type": "stream",
          "text": [
            "[1. 1. 1. 1. 1.]\n"
          ],
          "name": "stdout"
        }
      ]
    },
    {
      "cell_type": "markdown",
      "metadata": {
        "id": "gSTM8DoIQy5P"
      },
      "source": [
        "타깃 데이터\r\n",
        "np.ones() 와 np.zeros() 함수를 이용하면 각각 원하는 개수의 1과 0을 채운 배열을 만들어 준다."
      ]
    },
    {
      "cell_type": "code",
      "metadata": {
        "id": "gA5FtDaDQs5f"
      },
      "source": [
        "fish_target=np.concatenate((np.ones(35),np.zeros(14)))"
      ],
      "execution_count": 8,
      "outputs": []
    },
    {
      "cell_type": "code",
      "metadata": {
        "colab": {
          "base_uri": "https://localhost:8080/"
        },
        "id": "zv7MuPUeSMr-",
        "outputId": "3f3a2647-8847-428b-950a-9d7c22b9083c"
      },
      "source": [
        "print(fish_target)"
      ],
      "execution_count": 9,
      "outputs": [
        {
          "output_type": "stream",
          "text": [
            "[1. 1. 1. 1. 1. 1. 1. 1. 1. 1. 1. 1. 1. 1. 1. 1. 1. 1. 1. 1. 1. 1. 1. 1.\n",
            " 1. 1. 1. 1. 1. 1. 1. 1. 1. 1. 1. 0. 0. 0. 0. 0. 0. 0. 0. 0. 0. 0. 0. 0.\n",
            " 0.]\n"
          ],
          "name": "stdout"
        }
      ]
    },
    {
      "cell_type": "markdown",
      "metadata": {
        "id": "C1ffO8cHSb7P"
      },
      "source": [
        "# 사이킷런으로 훈련 세트와 테스트 세트 나누기\r\n",
        "- train_test_split()함수는 전달되는 리스트나 배열의 비율에 맞게 훈련 세트와 테스트 세트로 나누어 준다.\r\n",
        "- 나누고 싶으 ㄴ리스트나 배열을 원하는 만큼 전달하면 된다. \r\n",
        "- fish_data 와 fish_target을 나누겠다. "
      ]
    },
    {
      "cell_type": "code",
      "metadata": {
        "id": "lJgfntOQSOs7"
      },
      "source": [
        "from sklearn.model_selection import train_test_split"
      ],
      "execution_count": 10,
      "outputs": []
    },
    {
      "cell_type": "code",
      "metadata": {
        "id": "u8nv3c_LTCX1"
      },
      "source": [
        "train_input,test_input,train_target,test_target=train_test_split(fish_data,fish_target,random_state=42)"
      ],
      "execution_count": 12,
      "outputs": []
    },
    {
      "cell_type": "code",
      "metadata": {
        "colab": {
          "base_uri": "https://localhost:8080/"
        },
        "id": "iu79k96bTbCv",
        "outputId": "841f1bcf-eefe-4478-ad11-3c01234410d3"
      },
      "source": [
        "print(train_input.shape,test_input.shape)"
      ],
      "execution_count": 14,
      "outputs": [
        {
          "output_type": "stream",
          "text": [
            "(36, 2) (13, 2)\n"
          ],
          "name": "stdout"
        }
      ]
    },
    {
      "cell_type": "code",
      "metadata": {
        "colab": {
          "base_uri": "https://localhost:8080/"
        },
        "id": "2gSBdUPHUl6Z",
        "outputId": "12973542-8b38-440f-b387-ac1f5e0d1a67"
      },
      "source": [
        "print(train_target.shape,test_target.shape)"
      ],
      "execution_count": 15,
      "outputs": [
        {
          "output_type": "stream",
          "text": [
            "(36,) (13,)\n"
          ],
          "name": "stdout"
        }
      ]
    },
    {
      "cell_type": "markdown",
      "metadata": {
        "id": "hznxKGkOWBe0"
      },
      "source": [
        "타깃 데이터는 1차원 배열"
      ]
    },
    {
      "cell_type": "code",
      "metadata": {
        "colab": {
          "base_uri": "https://localhost:8080/"
        },
        "id": "MSZ5mFQtVgIr",
        "outputId": "e0a51096-9d00-4270-e62d-42194e6fd675"
      },
      "source": [
        "print(test_target)"
      ],
      "execution_count": 17,
      "outputs": [
        {
          "output_type": "stream",
          "text": [
            "[1. 0. 0. 0. 1. 1. 1. 1. 1. 1. 1. 1. 1.]\n"
          ],
          "name": "stdout"
        }
      ]
    },
    {
      "cell_type": "markdown",
      "metadata": {
        "id": "9dXmPG3WWmiO"
      },
      "source": [
        "13개의 테스트 세트 중에 10개가 도미이고 3개가 빙어이다. 잘 섞인 것 같지만 빙어의 비율이 모자라다. 원래 도미와 빙어의 개수가 35와 14이므로 두 생선의 비율은 2.5:1 이다. 하지만 이 테스트 세트의 도미와 빙어의 비율은 3.3:1이다. 샘플링 편향이 여기서 좀 나타난 것이다. \r\n",
        "\r\n",
        "아 문제를 해결할 방법이 있다. 바로 train_test_split()에 stratify 매개변수에 티깃 데이터를 전달하면 클래스 비율에 맞게 데이터를 나눈다. "
      ]
    },
    {
      "cell_type": "code",
      "metadata": {
        "id": "IIE8hSUYWFJ-"
      },
      "source": [
        "train_input,test_input,train_target,test_target=train_test_split(fish_data,fish_target,stratify=fish_target,random_state=42)"
      ],
      "execution_count": 19,
      "outputs": []
    },
    {
      "cell_type": "code",
      "metadata": {
        "colab": {
          "base_uri": "https://localhost:8080/"
        },
        "id": "9FhfXUhbXRxZ",
        "outputId": "8e1b5075-5520-41ff-e5b6-2607b4726e6e"
      },
      "source": [
        "print(test_target)"
      ],
      "execution_count": 20,
      "outputs": [
        {
          "output_type": "stream",
          "text": [
            "[0. 0. 1. 0. 1. 0. 1. 1. 1. 1. 1. 1. 1.]\n"
          ],
          "name": "stdout"
        }
      ]
    },
    {
      "cell_type": "markdown",
      "metadata": {
        "id": "LzXa6Oo5X9O0"
      },
      "source": [
        "##준비한 데이터로 K-최근접 이웃 훈련하기"
      ]
    },
    {
      "cell_type": "code",
      "metadata": {
        "colab": {
          "base_uri": "https://localhost:8080/"
        },
        "id": "PLKfxu8MXufC",
        "outputId": "428e9d52-3b29-4adc-f93e-7ffc8a43fc4b"
      },
      "source": [
        "from sklearn.neighbors import KNeighborsClassifier\r\n",
        "kn=KNeighborsClassifier()\r\n",
        "kn.fit(train_input,train_target)\r\n",
        "kn.score(test_input,test_target)"
      ],
      "execution_count": 24,
      "outputs": [
        {
          "output_type": "execute_result",
          "data": {
            "text/plain": [
              "1.0"
            ]
          },
          "metadata": {
            "tags": []
          },
          "execution_count": 24
        }
      ]
    },
    {
      "cell_type": "markdown",
      "metadata": {
        "id": "5I-TdGwcYW7y"
      },
      "source": [
        "데스트 세트의 도미와 빙어를 모두 올바르게 분류했다."
      ]
    },
    {
      "cell_type": "code",
      "metadata": {
        "colab": {
          "base_uri": "https://localhost:8080/"
        },
        "id": "MSxSCbmjYKTH",
        "outputId": "1ed7a11b-6f8c-4b21-8333-6846cfa3fde1"
      },
      "source": [
        "print(kn.predict([[25,150]]))"
      ],
      "execution_count": 25,
      "outputs": [
        {
          "output_type": "stream",
          "text": [
            "[0.]\n"
          ],
          "name": "stdout"
        }
      ]
    },
    {
      "cell_type": "markdown",
      "metadata": {
        "id": "PFRdHRPnYgWk"
      },
      "source": [
        "??데이터가 빙어를 가리키기에 너무 크다... "
      ]
    },
    {
      "cell_type": "code",
      "metadata": {
        "colab": {
          "base_uri": "https://localhost:8080/",
          "height": 279
        },
        "id": "z7IAC0B_YfYT",
        "outputId": "64b04a6a-72c6-44cf-8745-45e9e713eeab"
      },
      "source": [
        "import matplotlib.pyplot as plt\r\n",
        "plt.scatter(train_input[:,0],train_input[:,1])\r\n",
        "plt.scatter(25,150,marker=\"^\")\r\n",
        "plt.xlabel('length')\r\n",
        "plt.ylabel('weight')\r\n",
        "plt.show()"
      ],
      "execution_count": 27,
      "outputs": [
        {
          "output_type": "display_data",
          "data": {
            "image/png": "[encoded data removed]",
            "text/plain": [
              "<Figure size 432x288 with 1 Axes>"
            ]
          },
          "metadata": {
            "tags": [],
            "needs_background": "light"
          }
        }
      ]
    },
    {
      "cell_type": "markdown",
      "metadata": {
        "id": "VcOBJ6DFbZyP"
      },
      "source": [
        "이 샘플은 도미데이터에 가까운데 왜 빙어 데이터에 가깝다고 판단한 것일까?\r\n",
        "\r\n",
        "k-최근접 이웃은 주변의 샘플 중 다수인 클래스를 예측으로 사용한다. KNeighborsClassfier 클래스는 주어진 샘플에서 가장 가까운 이웃을 찾아주는 kneighbors()메서드를 제공한다. 이 메서드는 이웃까지의 거리와 이웃 샘플의 인덱스를 반환하는데 KNeighnorsClassifier 클래스의 이웃 개수인 n_neighbors의 기본 값은 5이므로, 5개의 이웃이 반환된다."
      ]
    },
    {
      "cell_type": "code",
      "metadata": {
        "id": "lOFO92F6bRJP"
      },
      "source": [
        "distances,indexes=kn.kneighbors([[25,150]])"
      ],
      "execution_count": 28,
      "outputs": []
    },
    {
      "cell_type": "code",
      "metadata": {
        "colab": {
          "base_uri": "https://localhost:8080/",
          "height": 279
        },
        "id": "KxKFmZCUcGev",
        "outputId": "c4f01bc8-13b3-4c00-a7a2-dc1031b1ca15"
      },
      "source": [
        "plt.scatter(train_input[:,0],train_input[:,1])\r\n",
        "plt.scatter(25,150,marker=\"^\")\r\n",
        "plt.scatter(train_input[indexes,0],train_input[indexes,1],marker=\"D\")\r\n",
        "plt.xlabel('length')\r\n",
        "plt.ylabel('weight')\r\n",
        "plt.show()"
      ],
      "execution_count": 29,
      "outputs": [
        {
          "output_type": "display_data",
          "data": {
            "image/png": "[encoded data removed]",
            "text/plain": [
              "<Figure size 432x288 with 1 Axes>"
            ]
          },
          "metadata": {
            "tags": [],
            "needs_background": "light"
          }
        }
      ]
    },
    {
      "cell_type": "markdown",
      "metadata": {
        "id": "1Gx4JhzCdAsw"
      },
      "source": [
        "삼각형 샘플에 가장 가까운 5개의 샘플이 초록 다이아몬드로 표시되었다. 1개만 도미고 4개는 모두 빙어이다."
      ]
    },
    {
      "cell_type": "code",
      "metadata": {
        "colab": {
          "base_uri": "https://localhost:8080/"
        },
        "id": "lRqYRPYlcpn9",
        "outputId": "24df2dd5-043c-4066-fd5d-8bdfc091b3d8"
      },
      "source": [
        "print(train_input[indexes])#"
      ],
      "execution_count": 30,
      "outputs": [
        {
          "output_type": "stream",
          "text": [
            "[[[ 25.4 242. ]\n",
            "  [ 15.   19.9]\n",
            "  [ 14.3  19.7]\n",
            "  [ 13.   12.2]\n",
            "  [ 12.2  12.2]]]\n"
          ],
          "name": "stdout"
        }
      ]
    },
    {
      "cell_type": "code",
      "metadata": {
        "colab": {
          "base_uri": "https://localhost:8080/"
        },
        "id": "r9ToMDS9dJ-y",
        "outputId": "e8e7e17c-3914-46e4-a5a9-3f31197d202f"
      },
      "source": [
        "print(train_target[indexes])"
      ],
      "execution_count": 31,
      "outputs": [
        {
          "output_type": "stream",
          "text": [
            "[[1. 0. 0. 0. 0.]]\n"
          ],
          "name": "stdout"
        }
      ]
    },
    {
      "cell_type": "markdown",
      "metadata": {
        "id": "mAe0uY1Aehwy"
      },
      "source": [
        "역시나 빙어가 압도적으로 가깝다. "
      ]
    },
    {
      "cell_type": "code",
      "metadata": {
        "colab": {
          "base_uri": "https://localhost:8080/"
        },
        "id": "WnqHDRkLeJ_X",
        "outputId": "b1c024b0-a96a-4ed5-c645-443c8ce07d69"
      },
      "source": [
        "print(distances)"
      ],
      "execution_count": 32,
      "outputs": [
        {
          "output_type": "stream",
          "text": [
            "[[ 92.00086956 130.48375378 130.73859415 138.32150953 138.39320793]]\n"
          ],
          "name": "stdout"
        }
      ]
    },
    {
      "cell_type": "markdown",
      "metadata": {
        "id": "FTIG_M-ieqwR"
      },
      "source": [
        "# 기준 맞추기\r\n",
        "-"
      ]
    },
    {
      "cell_type": "code",
      "metadata": {
        "colab": {
          "base_uri": "https://localhost:8080/"
        },
        "id": "LIIY6AVJeoWy",
        "outputId": "9041cf72-523e-43df-f3c8-ed7a346fab5c"
      },
      "source": [
        "print(distances)"
      ],
      "execution_count": 33,
      "outputs": [
        {
          "output_type": "stream",
          "text": [
            "[[ 92.00086956 130.48375378 130.73859415 138.32150953 138.39320793]]\n"
          ],
          "name": "stdout"
        }
      ]
    },
    {
      "cell_type": "code",
      "metadata": {
        "colab": {
          "base_uri": "https://localhost:8080/"
        },
        "id": "Itv6Vr0JfFNq",
        "outputId": "844fb858-118a-4f13-929b-17e44b2dea84"
      },
      "source": [
        "print(train_target[indexes])"
      ],
      "execution_count": 35,
      "outputs": [
        {
          "output_type": "stream",
          "text": [
            "[[1. 0. 0. 0. 0.]]\n"
          ],
          "name": "stdout"
        }
      ]
    },
    {
      "cell_type": "code",
      "metadata": {
        "colab": {
          "base_uri": "https://localhost:8080/",
          "height": 279
        },
        "id": "dICipsjWfH0d",
        "outputId": "fda07933-ff12-48a4-f9ae-595202144313"
      },
      "source": [
        "plt.scatter(train_input[:,0],train_input[:,1])\r\n",
        "plt.scatter(25,150,marker=\"^\")\r\n",
        "plt.scatter(train_input[indexes,0],train_input[indexes,1],marker=\"D\")\r\n",
        "plt.xlabel('length')\r\n",
        "plt.ylabel('weight')\r\n",
        "plt.show()"
      ],
      "execution_count": 36,
      "outputs": [
        {
          "output_type": "display_data",
          "data": {
            "image/png": "[encoded data removed]",
            "text/plain": [
              "<Figure size 432x288 with 1 Axes>"
            ]
          },
          "metadata": {
            "tags": [],
            "needs_background": "light"
          }
        }
      ]
    },
    {
      "cell_type": "markdown",
      "metadata": {
        "id": "_vBf81M9fSNW"
      },
      "source": [
        "이 자료들을 보면 빙어와의 거리는 130이고 도미와의 거리는 90이라고 나오는데 족히 몇 배는 되어보이는데 차이가 얼마 안난다는게 이상하다.. \r\n",
        "그이유는 X축은 범위가 좁고 Y축은 범위가 넓기 때문이다."
      ]
    },
    {
      "cell_type": "code",
      "metadata": {
        "colab": {
          "base_uri": "https://localhost:8080/",
          "height": 279
        },
        "id": "Mz4NPfw9fQgY",
        "outputId": "54eb0510-28bc-4878-ed55-78f176545d2f"
      },
      "source": [
        "plt.scatter(train_input[:,0],train_input[:,1])\r\n",
        "plt.scatter(25,150,marker=\"^\")\r\n",
        "plt.scatter(train_input[indexes,0],train_input[indexes,1],marker='D')\r\n",
        "plt.xlim((0,1000))\r\n",
        "plt.xlabel('length')\r\n",
        "plt.ylabel('weight')\r\n",
        "plt.show()"
      ],
      "execution_count": 37,
      "outputs": [
        {
          "output_type": "display_data",
          "data": {
            "image/png": "[encoded data removed]",
            "text/plain": [
              "<Figure size 432x288 with 1 Axes>"
            ]
          },
          "metadata": {
            "tags": [],
            "needs_background": "light"
          }
        }
      ]
    },
    {
      "cell_type": "markdown",
      "metadata": {
        "id": "Hp-lUcu6gO3Q"
      },
      "source": [
        ""
      ]
    },
    {
      "cell_type": "markdown",
      "metadata": {
        "id": "qsXsOYMtf90I"
      },
      "source": [
        "y축과 동일하게 x축의 범위를 맞춰주었다.거의 수직으로 늘어선 형태가 되었는데, 생선의 길이인 X축은 가까운 이웃을 찾는데 영향을 미치지 못할 것이다..\r\n",
        "\r\n",
        " 특성의 값이 놓인 범위가 매우 다른데 이를 두 특성의 *스케일*이 다르다고 말하기도 한다. \r\n",
        "\r\n",
        " k-최근접 이웃 과 같은 알고리즘은 샘플간의 거리에 영향을 많이 받으므로 제대로 사용하려면 특성값을 일정한 기준으로 맞추어주어야 한다. 이를 **데이터 전처리**라고 한다. "
      ]
    },
    {
      "cell_type": "code",
      "metadata": {
        "id": "Dw9iB1tjf58_"
      },
      "source": [
        "mean=np.mean(train_input,axis=0)\r\n",
        "std=np.std(train_input,axis=0)"
      ],
      "execution_count": 38,
      "outputs": []
    },
    {
      "cell_type": "markdown",
      "metadata": {
        "id": "7ojrSp_gieTU"
      },
      "source": [
        "가장 널리 사용하는 전처리 방법 중 하나는 표준 점수이다. (z점수라고 부르기도 함)\r\n",
        "평균을 빼고 표준편차로 나누어 주면 된다."
      ]
    },
    {
      "cell_type": "code",
      "metadata": {
        "colab": {
          "base_uri": "https://localhost:8080/"
        },
        "id": "9J37nsQFidP9",
        "outputId": "c32596f9-fb10-4c6d-f0a5-74d2e702f836"
      },
      "source": [
        "print(mean,std)"
      ],
      "execution_count": 39,
      "outputs": [
        {
          "output_type": "stream",
          "text": [
            "[ 27.29722222 454.09722222] [  9.98244253 323.29893931]\n"
          ],
          "name": "stdout"
        }
      ]
    },
    {
      "cell_type": "code",
      "metadata": {
        "id": "__gfORd-i1Ej"
      },
      "source": [
        "train_scaled=(train_input-mean)/std"
      ],
      "execution_count": 40,
      "outputs": []
    },
    {
      "cell_type": "code",
      "metadata": {
        "id": "ZK77z-NCi-Yr"
      },
      "source": [
        ""
      ],
      "execution_count": null,
      "outputs": []
    },
    {
      "cell_type": "markdown",
      "metadata": {
        "id": "hLmy0jyljEqG"
      },
      "source": [
        "#전처리 데이터로 모델 훈련하기"
      ]
    },
    {
      "cell_type": "code",
      "metadata": {
        "colab": {
          "base_uri": "https://localhost:8080/",
          "height": 279
        },
        "id": "cOF64PuZjG4J",
        "outputId": "abcb9e19-9486-4f55-bb05-81efb98c16cb"
      },
      "source": [
        "plt.scatter(train_scaled[:,0],train_scaled[:,0])\r\n",
        "plt.scatter(25,150,marker=\"^\")\r\n",
        "plt.xlabel('length')\r\n",
        "plt.ylabel('weight')\r\n",
        "plt.show()"
      ],
      "execution_count": 41,
      "outputs": [
        {
          "output_type": "display_data",
          "data": {
            "image/png": "[encoded data removed]",
            "text/plain": [
              "<Figure size 432x288 with 1 Axes>"
            ]
          },
          "metadata": {
            "tags": [],
            "needs_background": "light"
          }
        }
      ]
    },
    {
      "cell_type": "markdown",
      "metadata": {
        "id": "YOe9-ZV0jbpD"
      },
      "source": [
        "훈련세트를 mean으로 빼고 std로 나누어 주었기 때문에 값의 범위가 달라진 것이다. 훈련세트의 mean과 std를 이용해서 변환해야 한다. "
      ]
    },
    {
      "cell_type": "code",
      "metadata": {
        "id": "04CbhGEljV93"
      },
      "source": [
        "new=([25,150]-mean)/std"
      ],
      "execution_count": 42,
      "outputs": []
    },
    {
      "cell_type": "code",
      "metadata": {
        "colab": {
          "base_uri": "https://localhost:8080/",
          "height": 279
        },
        "id": "fmw-VzKHju5E",
        "outputId": "69e5ba40-7af2-422d-ab95-5e2d86209bba"
      },
      "source": [
        "plt.scatter(train_scaled[:,0],train_scaled[:,1])\r\n",
        "plt.scatter(new[0],new[1],marker=\"^\")\r\n",
        "plt.xlabel('length')\r\n",
        "plt.ylabel('weigth')\r\n",
        "plt.show()"
      ],
      "execution_count": 44,
      "outputs": [
        {
          "output_type": "display_data",
          "data": {
            "image/png": "[encoded data removed]",
            "text/plain": [
              "<Figure size 432x288 with 1 Axes>"
            ]
          },
          "metadata": {
            "tags": [],
            "needs_background": "light"
          }
        }
      ]
    },
    {
      "cell_type": "markdown",
      "metadata": {
        "id": "bLb-aWBVk40b"
      },
      "source": [
        "이제 표준편차로 변환하기 전의 산점도와 거의 동일하다. 크게 달라진 것은 x축과 y축의 범위가 -1.5 1.5 사이로 바뀌었다는 것이다. "
      ]
    },
    {
      "cell_type": "code",
      "metadata": {
        "colab": {
          "base_uri": "https://localhost:8080/"
        },
        "id": "fyul0K3qjzwt",
        "outputId": "5482f191-c8aa-4240-e38d-5787a1c0075b"
      },
      "source": [
        "kn.fit(train_scaled,train_target)"
      ],
      "execution_count": 45,
      "outputs": [
        {
          "output_type": "execute_result",
          "data": {
            "text/plain": [
              "KNeighborsClassifier(algorithm='auto', leaf_size=30, metric='minkowski',\n",
              "                     metric_params=None, n_jobs=None, n_neighbors=5, p=2,\n",
              "                     weights='uniform')"
            ]
          },
          "metadata": {
            "tags": []
          },
          "execution_count": 45
        }
      ]
    },
    {
      "cell_type": "code",
      "metadata": {
        "id": "EBHyWgKJlF6y"
      },
      "source": [
        "test_scaled=(test_input-mean)/std"
      ],
      "execution_count": 46,
      "outputs": []
    },
    {
      "cell_type": "code",
      "metadata": {
        "colab": {
          "base_uri": "https://localhost:8080/"
        },
        "id": "s8EEtk-SlN9O",
        "outputId": "e64b2f1f-8387-43df-993f-030ab0dd0f4f"
      },
      "source": [
        "kn.score(test_scaled,test_target)"
      ],
      "execution_count": 47,
      "outputs": [
        {
          "output_type": "execute_result",
          "data": {
            "text/plain": [
              "1.0"
            ]
          },
          "metadata": {
            "tags": []
          },
          "execution_count": 47
        }
      ]
    },
    {
      "cell_type": "code",
      "metadata": {
        "colab": {
          "base_uri": "https://localhost:8080/"
        },
        "id": "I9_o43u8lSEi",
        "outputId": "a29b6624-832a-4d2e-c2fb-7940f1650fdc"
      },
      "source": [
        "print(kn.predict([new]))"
      ],
      "execution_count": 48,
      "outputs": [
        {
          "output_type": "stream",
          "text": [
            "[1.]\n"
          ],
          "name": "stdout"
        }
      ]
    },
    {
      "cell_type": "markdown",
      "metadata": {
        "id": "cduSWqZql0b3"
      },
      "source": [
        "이제 완벽하게 도미로 예측한다"
      ]
    },
    {
      "cell_type": "code",
      "metadata": {
        "colab": {
          "base_uri": "https://localhost:8080/",
          "height": 279
        },
        "id": "3oml_p6GlbRr",
        "outputId": "6bc99a44-b2c0-4e1f-f67f-357ec53bb3c5"
      },
      "source": [
        "distances,indexes=kn.kneighbors([new])\r\n",
        "plt.scatter(train_scaled[:,0],train_scaled[:,1])\r\n",
        "plt.scatter(new[0],new[1],marker=\"^\")\r\n",
        "plt.scatter(train_scaled[indexes,0],train_scaled[indexes,1],marker=\"D\")\r\n",
        "plt.xlabel('length')\r\n",
        "plt.ylabel('weight')\r\n",
        "plt.show()"
      ],
      "execution_count": 50,
      "outputs": [
        {
          "output_type": "display_data",
          "data": {
            "image/png": "[encoded data removed]",
            "text/plain": [
              "<Figure size 432x288 with 1 Axes>"
            ]
          },
          "metadata": {
            "tags": [],
            "needs_background": "light"
          }
        }
      ]
    },
    {
      "cell_type": "code",
      "metadata": {
        "id": "whe0aKEgmTqV"
      },
      "source": [
        ""
      ],
      "execution_count": null,
      "outputs": []
    }
  ]
}
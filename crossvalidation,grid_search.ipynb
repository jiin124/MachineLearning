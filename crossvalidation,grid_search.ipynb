{
  "nbformat": 4,
  "nbformat_minor": 0,
  "metadata": {
    "colab": {
      "name": "crossvalidation,grid search",
      "provenance": [],
      "collapsed_sections": [],
      "authorship_tag": "ABX9TyPh4Vd7FPNC1w04bZKii7Yx",
      "include_colab_link": true
    },
    "kernelspec": {
      "name": "python3",
      "display_name": "Python 3"
    }
  },
  "cells": [
    {
      "cell_type": "markdown",
      "metadata": {
        "id": "view-in-github",
        "colab_type": "text"
      },
      "source": [
        "<a href=\"https://colab.research.google.com/github/jiin124/MachineLearning/blob/main/crossvalidation%2Cgrid_search.ipynb\" target=\"_parent\"><img src=\"https://colab.research.google.com/assets/colab-badge.svg\" alt=\"Open In Colab\"/></a>"
      ]
    },
    {
      "cell_type": "code",
      "metadata": {
        "id": "0VPctwrwVT-2"
      },
      "source": [
        "import pandas as pd\r\n",
        "wine=pd.read_csv('http://bit.ly/wine-date')"
      ],
      "execution_count": 2,
      "outputs": []
    },
    {
      "cell_type": "code",
      "metadata": {
        "id": "_ImMDBFSVvPz"
      },
      "source": [
        "data=wine[['alcohol','sugar','pH']].to_numpy()\r\n",
        "target=wine['class'].to_numpy()"
      ],
      "execution_count": 3,
      "outputs": []
    },
    {
      "cell_type": "code",
      "metadata": {
        "id": "Y_G54sQCWPj6"
      },
      "source": [
        "from sklearn.model_selection import train_test_split\r\n",
        "train_input,test_input,train_target,test_target=train_test_split(data,target,test_size=0.2,random_state=42)"
      ],
      "execution_count": 4,
      "outputs": []
    },
    {
      "cell_type": "code",
      "metadata": {
        "id": "c7BPO9Hr9IpO"
      },
      "source": [
        "sub_input,val_input,sub_target,val_target=train_test_split(train_input,train_target,test_size=0.2,random_state=42)"
      ],
      "execution_count": 5,
      "outputs": []
    },
    {
      "cell_type": "markdown",
      "metadata": {
        "id": "68ATx1gT_UFr"
      },
      "source": [
        "train_input과 train_target을 다시 train_test_split() 함수에 넣어 훈련세트 sub_input,sub_target 과 검증 세트 val_input val_target을 만든다.여기서 test_size=0.2로 지정해 train_input의 약 20%dmf val_input으로 만들어준다.\r\n",
        "\r\n",
        "함수를 두번 적용해서 훈련세트와 검증 세트로 나눠준 것이다. 훈련세트와 검증세트의 크기를 확인해보자"
      ]
    },
    {
      "cell_type": "code",
      "metadata": {
        "colab": {
          "base_uri": "https://localhost:8080/"
        },
        "id": "PX6FDtr1-_O5",
        "outputId": "90f8283f-291e-4850-c96c-d057061aad93"
      },
      "source": [
        "print(sub_input.shape,val_input.shape)"
      ],
      "execution_count": 6,
      "outputs": [
        {
          "output_type": "stream",
          "text": [
            "(4157, 3) (1040, 3)\n"
          ],
          "name": "stdout"
        }
      ]
    },
    {
      "cell_type": "markdown",
      "metadata": {
        "id": "elLc2wmC_Z4X"
      },
      "source": [
        "원래 5197개였던 훈련세트가 4157개로 줄고 검증 세트는 1040이 되었다. "
      ]
    },
    {
      "cell_type": "code",
      "metadata": {
        "colab": {
          "base_uri": "https://localhost:8080/"
        },
        "id": "tOJEt7af_Rsi",
        "outputId": "07d6e791-6fc4-4409-9b14-8e1490efb2f4"
      },
      "source": [
        "from sklearn.tree import DecisionTreeClassifier\r\n",
        "dt=DecisionTreeClassifier(random_state=42)\r\n",
        "dt.fit(sub_input,sub_target)\r\n",
        "print(dt.score(sub_input,sub_target))\r\n",
        "print(dt.score(val_input,val_target))"
      ],
      "execution_count": 7,
      "outputs": [
        {
          "output_type": "stream",
          "text": [
            "0.9971133028626413\n",
            "0.864423076923077\n"
          ],
          "name": "stdout"
        }
      ]
    },
    {
      "cell_type": "code",
      "metadata": {
        "colab": {
          "base_uri": "https://localhost:8080/"
        },
        "id": "gEu1NJgyAn71",
        "outputId": "5bda8dd2-f085-491f-ccd9-b78afd12ab22"
      },
      "source": [
        "from sklearn.model_selection import cross_validate\r\n",
        "scores=cross_validate(dt,train_input,train_target)\r\n",
        "print(scores)"
      ],
      "execution_count": 8,
      "outputs": [
        {
          "output_type": "stream",
          "text": [
            "{'fit_time': array([0.00785041, 0.0072453 , 0.00764346, 0.00759959, 0.00692868]), 'score_time': array([0.00077581, 0.00063062, 0.00063515, 0.00056696, 0.00055909]), 'test_score': array([0.86923077, 0.84615385, 0.87680462, 0.84889317, 0.83541867])}\n"
          ],
          "name": "stdout"
        }
      ]
    },
    {
      "cell_type": "markdown",
      "metadata": {
        "id": "x-5kKzCfGaSI"
      },
      "source": [
        "이 함수는 fit_time, score_time, test_score 키를 가진 딕셔너리를 반환한다. 처음 2개의 키는 각각 모델을 훈련하는 시간과 검증하는 시간을 의미한다. 각 키마다 5개의 숫자가 담겨있다. cross_vaildate() 함수는 기본적으로 5-폴드 교차검증을 수행한다. cv 매개변수에서 폴드 수를 바꿀 수 있다."
      ]
    },
    {
      "cell_type": "code",
      "metadata": {
        "colab": {
          "base_uri": "https://localhost:8080/"
        },
        "id": "M-1NBXedF831",
        "outputId": "5f144d7d-59ff-4a8c-e8cd-f677149346a3"
      },
      "source": [
        "import numpy as np\r\n",
        "print(np.mean(scores['test_score']))"
      ],
      "execution_count": 9,
      "outputs": [
        {
          "output_type": "stream",
          "text": [
            "0.855300214703487\n"
          ],
          "name": "stdout"
        }
      ]
    },
    {
      "cell_type": "markdown",
      "metadata": {
        "id": "f8TTjApLHf7V"
      },
      "source": [
        "교차검증을 수행하면 입력한 모델에서 얻을 수 있는 최상의 검증 점수를 가늠해 볼 수 있다. \r\n",
        "한 가지 주의할 점은 cross_vaildate() 는 훈련세트를 섞어 폴드를 나누지 않는다. 앞서 우리는 train_test_split() 함수로 전체 데이터를 섞은 후 훈련 세트를 준비했기 때문에 따로 섞을 필요가 없다. 하지만 만약 교차 검증을 할떄 훈련세트를 섞으려면 분할기(spliter)를 지정해야 한다."
      ]
    },
    {
      "cell_type": "code",
      "metadata": {
        "id": "l1dY232aGxfL",
        "colab": {
          "base_uri": "https://localhost:8080/"
        },
        "outputId": "c2a71183-a8e1-428e-84eb-51765daccdd2"
      },
      "source": [
        "from sklearn.model_selection import StratifiedKFold\r\n",
        "scores=cross_validate(dt,train_input,train_target,cv=StratifiedKFold())\r\n",
        "print(np.mean(scores['test_score']))"
      ],
      "execution_count": 11,
      "outputs": [
        {
          "output_type": "stream",
          "text": [
            "0.855300214703487\n"
          ],
          "name": "stdout"
        }
      ]
    },
    {
      "cell_type": "code",
      "metadata": {
        "colab": {
          "base_uri": "https://localhost:8080/"
        },
        "id": "iS0opuNBhUjl",
        "outputId": "fd79c0ad-78d7-48de-af58-7b92fe4a5e57"
      },
      "source": [
        "splitter=StratifiedKFold(n_splits=10,shuffle=True,random_state=42)\r\n",
        "scores=cross_validate(dt,train_input,train_target,cv=splitter)\r\n",
        "print(np.mean(scores['test_score']))\r\n",
        "#n_splits 매개변수는 몇 폴드 교차 검증을 할지 정할 수 있다."
      ],
      "execution_count": 14,
      "outputs": [
        {
          "output_type": "stream",
          "text": [
            "0.8574181117533719\n"
          ],
          "name": "stdout"
        }
      ]
    },
    {
      "cell_type": "markdown",
      "metadata": {
        "id": "dIEKPxzEiuWj"
      },
      "source": [
        "이제 결정 트리의 매개변수 값을 바꿔가며 가장 좋은 성능이 나오는 모델을 찾아보자! 테스트 세트를 사용하지 않고 교차 검증을 통해 좋은 모델을 고르면 된다. "
      ]
    },
    {
      "cell_type": "markdown",
      "metadata": {
        "id": "Bi8C_HfYkg6b"
      },
      "source": [
        "## 하이퍼파라미터\r\n",
        "\r\n",
        "모델이 학습할 수 없어서 사용자가 지정해야만 하는 파라미터를 하이퍼파라미터라고 한다. 사이킷런과 같은 머신러닝 라이브러리를 사용할 때 이런 하이퍼파라미터는 모두 클래스나 메서드의 매개변수로 표현한다. \r\n",
        "\r\n",
        "사이킷런의 GridSearchCV 클래스는 하이퍼파라미터 탐색과 교차 검증을 한 번에 수행한다. 별도로 cross_calidate()함수를 호출할 필요가 없다. min_impurity_decease 매개변수의 최적값을 찾아보자"
      ]
    },
    {
      "cell_type": "code",
      "metadata": {
        "id": "1neQydfdiicc"
      },
      "source": [
        "from sklearn.model_selection import GridSearchCV\r\n",
        "params={'min_impurity_decrease':[0.0001,0.0002,0.0003,0.0004,0.0005]}"
      ],
      "execution_count": 15,
      "outputs": []
    },
    {
      "cell_type": "code",
      "metadata": {
        "id": "WE98A-mroEX6"
      },
      "source": [
        "gs=GridSearchCV(DecisionTreeClassifier(random_state=42),params,n_jobs=-1)"
      ],
      "execution_count": 16,
      "outputs": []
    },
    {
      "cell_type": "code",
      "metadata": {
        "colab": {
          "base_uri": "https://localhost:8080/"
        },
        "id": "H_RkqPdzoN3c",
        "outputId": "51f23bad-7f77-466d-b1b8-3c60e27ddbe0"
      },
      "source": [
        "gs.fit(train_input,train_target)"
      ],
      "execution_count": 17,
      "outputs": [
        {
          "output_type": "execute_result",
          "data": {
            "text/plain": [
              "GridSearchCV(cv=None, error_score=nan,\n",
              "             estimator=DecisionTreeClassifier(ccp_alpha=0.0, class_weight=None,\n",
              "                                              criterion='gini', max_depth=None,\n",
              "                                              max_features=None,\n",
              "                                              max_leaf_nodes=None,\n",
              "                                              min_impurity_decrease=0.0,\n",
              "                                              min_impurity_split=None,\n",
              "                                              min_samples_leaf=1,\n",
              "                                              min_samples_split=2,\n",
              "                                              min_weight_fraction_leaf=0.0,\n",
              "                                              presort='deprecated',\n",
              "                                              random_state=42,\n",
              "                                              splitter='best'),\n",
              "             iid='deprecated', n_jobs=-1,\n",
              "             param_grid={'min_impurity_decrease': [0.0001, 0.0002, 0.0003,\n",
              "                                                   0.0004, 0.0005]},\n",
              "             pre_dispatch='2*n_jobs', refit=True, return_train_score=False,\n",
              "             scoring=None, verbose=0)"
            ]
          },
          "metadata": {
            "tags": []
          },
          "execution_count": 17
        }
      ]
    },
    {
      "cell_type": "code",
      "metadata": {
        "colab": {
          "base_uri": "https://localhost:8080/"
        },
        "id": "mncstQUlp3xJ",
        "outputId": "9e0f1b72-143b-4a83-88d3-d809f8826021"
      },
      "source": [
        "dt=gs.best_estimator_\r\n",
        "print(dt.score(train_input,train_target))"
      ],
      "execution_count": 19,
      "outputs": [
        {
          "output_type": "stream",
          "text": [
            "0.9615162593804117\n"
          ],
          "name": "stdout"
        }
      ]
    },
    {
      "cell_type": "code",
      "metadata": {
        "colab": {
          "base_uri": "https://localhost:8080/"
        },
        "id": "vLejrQmkqBHm",
        "outputId": "8a010754-eff6-4416-f51a-9cbbe7d80a8e"
      },
      "source": [
        "print(gs.best_params_)"
      ],
      "execution_count": 20,
      "outputs": [
        {
          "output_type": "stream",
          "text": [
            "{'min_impurity_decrease': 0.0001}\n"
          ],
          "name": "stdout"
        }
      ]
    },
    {
      "cell_type": "code",
      "metadata": {
        "colab": {
          "base_uri": "https://localhost:8080/"
        },
        "id": "X6B72YJnrYtM",
        "outputId": "b2482e99-e0bb-452e-df48-736d3a01d148"
      },
      "source": [
        "print(gs.cv_results_['mean_test_score'])"
      ],
      "execution_count": 21,
      "outputs": [
        {
          "output_type": "stream",
          "text": [
            "[0.86819297 0.86453617 0.86492226 0.86780891 0.86761605]\n"
          ],
          "name": "stdout"
        }
      ]
    },
    {
      "cell_type": "code",
      "metadata": {
        "colab": {
          "base_uri": "https://localhost:8080/"
        },
        "id": "Q_nvhHeTtmfm",
        "outputId": "b3f6766c-7197-4d54-fbb9-259b0e38ce88"
      },
      "source": [
        "best_index=np.argmax(gs.cv_results_['mean_test_score'])\r\n",
        "print(gs.cv_results_['params'][best_index])"
      ],
      "execution_count": 23,
      "outputs": [
        {
          "output_type": "stream",
          "text": [
            "{'min_impurity_decrease': 0.0001}\n"
          ],
          "name": "stdout"
        }
      ]
    },
    {
      "cell_type": "code",
      "metadata": {
        "id": "Wl5dLn9Ot9zz"
      },
      "source": [
        "params={'min_impurity_decrease':np.arange(0.0001,0.001,0.0001),\r\n",
        "        'max_depth':range(5,20,1),\r\n",
        "        'min_samples_split':range(2,100,10)}"
      ],
      "execution_count": 24,
      "outputs": []
    },
    {
      "cell_type": "markdown",
      "metadata": {
        "id": "IYvG9X4bux1z"
      },
      "source": [
        "9*15*10=1350 개의 교차검증횟수\r\n",
        "기본 5-폴드 교차 검증을 수행하므로 만들어지는 모델의 수는 6750개이다. \r\n",
        "n-job 매개변수를 -1로 정하고 그리드 서치를 실행해보겠다"
      ]
    },
    {
      "cell_type": "code",
      "metadata": {
        "colab": {
          "base_uri": "https://localhost:8080/"
        },
        "id": "-kHs0xQYumw7",
        "outputId": "6d869002-2d70-40fb-8241-27ebd322d0aa"
      },
      "source": [
        "gs=GridSearchCV(DecisionTreeClassifier(random_state=42),params,n_jobs=-1)\r\n",
        "gs.fit(train_input,train_target)"
      ],
      "execution_count": 27,
      "outputs": [
        {
          "output_type": "execute_result",
          "data": {
            "text/plain": [
              "GridSearchCV(cv=None, error_score=nan,\n",
              "             estimator=DecisionTreeClassifier(ccp_alpha=0.0, class_weight=None,\n",
              "                                              criterion='gini', max_depth=None,\n",
              "                                              max_features=None,\n",
              "                                              max_leaf_nodes=None,\n",
              "                                              min_impurity_decrease=0.0,\n",
              "                                              min_impurity_split=None,\n",
              "                                              min_samples_leaf=1,\n",
              "                                              min_samples_split=2,\n",
              "                                              min_weight_fraction_leaf=0.0,\n",
              "                                              presort='deprecated',\n",
              "                                              random_state=42,\n",
              "                                              splitter='best'),\n",
              "             iid='deprecated', n_jobs=-1,\n",
              "             param_grid={'max_depth': range(5, 20),\n",
              "                         'min_impurity_decrease': array([0.0001, 0.0002, 0.0003, 0.0004, 0.0005, 0.0006, 0.0007, 0.0008,\n",
              "       0.0009]),\n",
              "                         'min_samples_split': range(2, 100, 10)},\n",
              "             pre_dispatch='2*n_jobs', refit=True, return_train_score=False,\n",
              "             scoring=None, verbose=0)"
            ]
          },
          "metadata": {
            "tags": []
          },
          "execution_count": 27
        }
      ]
    },
    {
      "cell_type": "code",
      "metadata": {
        "colab": {
          "base_uri": "https://localhost:8080/"
        },
        "id": "v2KbAVpovJ2b",
        "outputId": "7246afac-6184-4605-e10f-0ee0de1d3f9f"
      },
      "source": [
        "print(gs.best_params_)"
      ],
      "execution_count": 28,
      "outputs": [
        {
          "output_type": "stream",
          "text": [
            "{'max_depth': 14, 'min_impurity_decrease': 0.0004, 'min_samples_split': 12}\n"
          ],
          "name": "stdout"
        }
      ]
    },
    {
      "cell_type": "code",
      "metadata": {
        "colab": {
          "base_uri": "https://localhost:8080/"
        },
        "id": "M90xq7a9vYwv",
        "outputId": "b673620e-e246-4971-d656-648b31b627e5"
      },
      "source": [
        "#최상의 교차 검증 점수\r\n",
        "print(np.max(gs.cv_results_['mean_test_score']))"
      ],
      "execution_count": 29,
      "outputs": [
        {
          "output_type": "stream",
          "text": [
            "0.8683865773302731\n"
          ],
          "name": "stdout"
        }
      ]
    },
    {
      "cell_type": "markdown",
      "metadata": {
        "id": "Ux0aGYSJwOPt"
      },
      "source": [
        "## 랜덤 서치\r\n",
        "\r\n",
        "매개변수의 값이 수치일 때 값의 범위나 간격을 미리 정하기 어려울 수 있다 또 너무 많은 매개 변수 조건이 있어 그리드 서치 수행 시간이 오래 걸릴 수 있다. 이럴 떄는 랜덤 서치를 사용한다. 랜덤 서치에는 매개 변수 값의 목록을 전달하는 것이 아니라 매개 변수를 샘플링 팔 수 있는 확률 분포 객체를 전달한다."
      ]
    },
    {
      "cell_type": "code",
      "metadata": {
        "id": "c6YR1TCKvj5p"
      },
      "source": [
        "from scipy.stats import uniform,randint\r\n",
        "#싸이파이의 stats 서브 패키지에 있는 uniform과 randint 클래스는 주어진 범위에서 고르게 값을 뽑는다. 이를 균등 분포에서 샘플링한다고 말한다. \r\n",
        "#randint는 정숫값을 뽑고 uniform은 실숫 값을 뽑는다. "
      ],
      "execution_count": 34,
      "outputs": []
    },
    {
      "cell_type": "code",
      "metadata": {
        "colab": {
          "base_uri": "https://localhost:8080/"
        },
        "id": "3QedWtybwjLv",
        "outputId": "2c7acd30-7b7c-42ae-b118-70a379b86d32"
      },
      "source": [
        "rgen=randint(0,10)\r\n",
        "rgen.rvs(10)"
      ],
      "execution_count": 35,
      "outputs": [
        {
          "output_type": "execute_result",
          "data": {
            "text/plain": [
              "array([2, 7, 5, 7, 2, 4, 0, 0, 6, 8])"
            ]
          },
          "metadata": {
            "tags": []
          },
          "execution_count": 35
        }
      ]
    },
    {
      "cell_type": "code",
      "metadata": {
        "colab": {
          "base_uri": "https://localhost:8080/"
        },
        "id": "_UOY3hU8w8GT",
        "outputId": "a9db8df1-88b9-4c7f-cadd-c064c5574d56"
      },
      "source": [
        "np.unique(rgen.rvs(1000),return_counts=True)"
      ],
      "execution_count": 36,
      "outputs": [
        {
          "output_type": "execute_result",
          "data": {
            "text/plain": [
              "(array([0, 1, 2, 3, 4, 5, 6, 7, 8, 9]),\n",
              " array([ 95, 104,  92, 124,  93, 108,  82,  96,  99, 107]))"
            ]
          },
          "metadata": {
            "tags": []
          },
          "execution_count": 36
        }
      ]
    },
    {
      "cell_type": "code",
      "metadata": {
        "colab": {
          "base_uri": "https://localhost:8080/"
        },
        "id": "CSOVK6cixMeQ",
        "outputId": "c5e26788-8e85-44a6-d12e-249c21c15ee4"
      },
      "source": [
        "ugen=uniform(0,1)\r\n",
        "ugen.rvs(10)"
      ],
      "execution_count": 37,
      "outputs": [
        {
          "output_type": "execute_result",
          "data": {
            "text/plain": [
              "array([0.46924925, 0.01688851, 0.39051703, 0.71536477, 0.11646714,\n",
              "       0.27444022, 0.61357102, 0.2310073 , 0.96639331, 0.8488185 ])"
            ]
          },
          "metadata": {
            "tags": []
          },
          "execution_count": 37
        }
      ]
    },
    {
      "cell_type": "markdown",
      "metadata": {
        "id": "pITYrN2rxcDj"
      },
      "source": [
        "랜덤서치에 randint와 uniform 클래스 객체를 넘겨주고 몇 번을 샘플링해서 최적의 매개변수를 찾으라고 명령할 수 있다. 샘플링 횟수는 시스템 자원이 허락하는 범위내에서 최대한 크게하는 것이 좋다. "
      ]
    },
    {
      "cell_type": "code",
      "metadata": {
        "id": "uWqonCJbxZlm"
      },
      "source": [
        "params={'min_impurity_decrease':uniform(0.0001,0.001),\r\n",
        "        'max_depth':randint(20,50),\r\n",
        "        'min_samples_split':randint(2,25),\r\n",
        "        'min_samples_leaf':randint(1,25),}"
      ],
      "execution_count": 38,
      "outputs": []
    },
    {
      "cell_type": "code",
      "metadata": {
        "colab": {
          "base_uri": "https://localhost:8080/"
        },
        "id": "DylLqrTIzlvW",
        "outputId": "6739ee27-35ad-4a67-c89d-75e1264403f7"
      },
      "source": [
        "from sklearn.model_selection import RandomizedSearchCV\r\n",
        "gs=RandomizedSearchCV(DecisionTreeClassifier(random_state=42),params,n_iter=100,n_jobs=-1,random_state=42)\r\n",
        "gs.fit(train_input,train_target)"
      ],
      "execution_count": 42,
      "outputs": [
        {
          "output_type": "execute_result",
          "data": {
            "text/plain": [
              "RandomizedSearchCV(cv=None, error_score=nan,\n",
              "                   estimator=DecisionTreeClassifier(ccp_alpha=0.0,\n",
              "                                                    class_weight=None,\n",
              "                                                    criterion='gini',\n",
              "                                                    max_depth=None,\n",
              "                                                    max_features=None,\n",
              "                                                    max_leaf_nodes=None,\n",
              "                                                    min_impurity_decrease=0.0,\n",
              "                                                    min_impurity_split=None,\n",
              "                                                    min_samples_leaf=1,\n",
              "                                                    min_samples_split=2,\n",
              "                                                    min_weight_fraction_leaf=0.0,\n",
              "                                                    presort='deprecated',\n",
              "                                                    random_state=42,\n",
              "                                                    splitter='best'),...\n",
              "                                        'min_impurity_decrease': <scipy.stats._distn_infrastructure.rv_frozen object at 0x7f8cc9e75f28>,\n",
              "                                        'min_samples_leaf': <scipy.stats._distn_infrastructure.rv_frozen object at 0x7f8cc1f2b438>,\n",
              "                                        'min_samples_split': <scipy.stats._distn_infrastructure.rv_frozen object at 0x7f8cc1f2bbe0>},\n",
              "                   pre_dispatch='2*n_jobs', random_state=42, refit=True,\n",
              "                   return_train_score=False, scoring=None, verbose=0)"
            ]
          },
          "metadata": {
            "tags": []
          },
          "execution_count": 42
        }
      ]
    },
    {
      "cell_type": "code",
      "metadata": {
        "colab": {
          "base_uri": "https://localhost:8080/"
        },
        "id": "BCBgNBqp0obc",
        "outputId": "a085dbb4-6d9e-4fbe-d429-e61f8d217df6"
      },
      "source": [
        "print(gs.best_params_)"
      ],
      "execution_count": 43,
      "outputs": [
        {
          "output_type": "stream",
          "text": [
            "{'max_depth': 39, 'min_impurity_decrease': 0.00034102546602601173, 'min_samples_leaf': 7, 'min_samples_split': 13}\n"
          ],
          "name": "stdout"
        }
      ]
    },
    {
      "cell_type": "code",
      "metadata": {
        "colab": {
          "base_uri": "https://localhost:8080/"
        },
        "id": "Rj-Lz0sT00WP",
        "outputId": "d8f62b52-1f07-487b-d1ad-184c431be740"
      },
      "source": [
        "print(np.max(gs.cv_results_['mean_test_score']))"
      ],
      "execution_count": 44,
      "outputs": [
        {
          "output_type": "stream",
          "text": [
            "0.8695428296438884\n"
          ],
          "name": "stdout"
        }
      ]
    },
    {
      "cell_type": "code",
      "metadata": {
        "colab": {
          "base_uri": "https://localhost:8080/"
        },
        "id": "USvFPytF05jD",
        "outputId": "562745df-c1c8-4a16-e03a-c32a8ee810cb"
      },
      "source": [
        "dt=gs.best_estimator_\r\n",
        "print(dt.score(test_input,test_target))"
      ],
      "execution_count": 45,
      "outputs": [
        {
          "output_type": "stream",
          "text": [
            "0.86\n"
          ],
          "name": "stdout"
        }
      ]
    },
    {
      "cell_type": "markdown",
      "metadata": {
        "id": "Gq7lwW2u1G50"
      },
      "source": [
        "# 최적의 모델을 위한 파이퍼파라미터 탐색 마무리..\r\n",
        "\r\n",
        "테스트 세트는 최종 모델을 선택할 때 까지 사용하지 말아햐 한다. 테스트 세트를 사용하지 않고 모델을 평가하려면 또다른 세트가 필요하다. 이를 검증 세트라고 부른다. 혹은 개발 세트라고 한다 검증 세트는 훈련세트 중 일부를 다시 덜어 내어 만든다. \r\n",
        "\r\n",
        "컴증 세트가 크지 않다면 어떻게 데이터를 나누었는지에 따라 검증 점수가 들쭉날쭉 할 것이다. 훈련한 모델의 성능을 안정적으로 평가하기 위해 검증 세트를 한 번 나누어 모델을 평가하는 것에 그치지 않고 여러번 반복 할 수 있다. 이를 교차 검증이라고 한다. "
      ]
    },
    {
      "cell_type": "code",
      "metadata": {
        "id": "44bnIkYT1BBl"
      },
      "source": [
        ""
      ],
      "execution_count": null,
      "outputs": []
    }
  ]
}
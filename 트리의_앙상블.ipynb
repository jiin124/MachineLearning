{
  "nbformat": 4,
  "nbformat_minor": 0,
  "metadata": {
    "colab": {
      "name": "트리의 앙상블",
      "provenance": [],
      "authorship_tag": "ABX9TyNkm3WqdGytNeJ9jRPzui+j",
      "include_colab_link": true
    },
    "kernelspec": {
      "name": "python3",
      "display_name": "Python 3"
    }
  },
  "cells": [
    {
      "cell_type": "markdown",
      "metadata": {
        "id": "view-in-github",
        "colab_type": "text"
      },
      "source": [
        "<a href=\"https://colab.research.google.com/github/jiin124/MachineLearning/blob/main/%ED%8A%B8%EB%A6%AC%EC%9D%98_%EC%95%99%EC%83%81%EB%B8%94.ipynb\" target=\"_parent\"><img src=\"https://colab.research.google.com/assets/colab-badge.svg\" alt=\"Open In Colab\"/></a>"
      ]
    },
    {
      "cell_type": "markdown",
      "metadata": {
        "id": "8C96_SJteCrl"
      },
      "source": [
        "## 랜덤 포레스트"
      ]
    },
    {
      "cell_type": "code",
      "metadata": {
        "id": "0635NwmIIRNr"
      },
      "source": [
        "import numpy as np\r\n",
        "import pandas as pd\r\n",
        "from sklearn.model_selection import train_test_split\r\n",
        "wine=pd.read_csv('http://bit.ly/wine-date')\r\n",
        "data=wine[['alcohol','sugar','pH']].to_numpy()\r\n",
        "target=wine['class'].to_numpy()\r\n",
        "train_input,test_input,train_target,test_target=train_test_split(data,target,test_size=0.2,random_state=42)"
      ],
      "execution_count": 2,
      "outputs": []
    },
    {
      "cell_type": "markdown",
      "metadata": {
        "id": "WmeTVx38X9yw"
      },
      "source": [
        "데이터셋을 판다스로 불러오고 훈련세트와 데스트 세트로 나누었다.\r\n",
        "\r\n",
        "이제 cross_validate() 함수를 사용해 교차 검증을 수행해 보자 RandomForestClassifier 는 기본적으로 100개의 결정 트리를 사용하므로 n_jobs 매개변수를 -1로 지정해 모든 cpu 코어를 사용하는 것이 좋다. cross_validate() 함수의 n_jobs 매개변수도 -1로 지정해 최대한 병렬로 교차검증을 수행하겠다. \r\n",
        "\r\n",
        "또 return_train_score 매개변수를 true 로 지정하면 검증 점수 뿐만 아니라 훈련 세트에 대한 점수도 같이 반환한다. 훈련세트와 검증 세트의 점수를 비교하면 과대 적합을 파악하는데 용이하다. "
      ]
    },
    {
      "cell_type": "code",
      "metadata": {
        "colab": {
          "base_uri": "https://localhost:8080/"
        },
        "id": "cDldfaw_X0oP",
        "outputId": "20ff8ce9-2d08-48ec-df6e-ab6dff3cd598"
      },
      "source": [
        "from sklearn.model_selection import cross_validate\r\n",
        "from sklearn.ensemble import RandomForestClassifier\r\n",
        "rf=RandomForestClassifier(n_jobs=-1,random_state=42)\r\n",
        "\r\n",
        "scores=cross_validate(rf,train_input,train_target,return_train_score=True,n_jobs=-1)\r\n",
        "print(np.mean(scores['train_score']),np.mean(scores['test_score']))"
      ],
      "execution_count": 3,
      "outputs": [
        {
          "output_type": "stream",
          "text": [
            "0.9973541965122431 0.8905151032797809\n"
          ],
          "name": "stdout"
        }
      ]
    },
    {
      "cell_type": "markdown",
      "metadata": {
        "id": "eVtH3U9bbsxP"
      },
      "source": [
        "위에서 출력된 결과를 보면 훈련세트에 과대 적합된 것으로 나타났다. \r\n",
        "\r\n",
        "랜덤 포레스트는 결 정 트리의 앙상블이기 떄문에 DecisionTreeClassifier가 제공하는 중요한 매개변수를 모두 제공한다. criterian,max_depth,max_feature,min_samples_split,min_impourity_decrease,min_samples_leaf 등이다. \r\n",
        "\r\n",
        "결정트리의 큰 장점 중 하나인 특성 중요도를 계산한다. 랜덤 포레스트의 특성 중요도는 각 결정 트리의 특성 중요도를 취합한 것이다. 앞의 랜던 포레스트 모델을 훈련 세트에 훈련한 후 특성 중요도를 출력해보겠다."
      ]
    },
    {
      "cell_type": "code",
      "metadata": {
        "colab": {
          "base_uri": "https://localhost:8080/"
        },
        "id": "M90bnhNUYrSp",
        "outputId": "b4093ba6-fab3-4d7d-ef3a-33cf1ff32392"
      },
      "source": [
        "rf.fit(train_input,train_target)\r\n",
        "print(rf.feature_importances_)"
      ],
      "execution_count": 4,
      "outputs": [
        {
          "output_type": "stream",
          "text": [
            "[0.23167441 0.50039841 0.26792718]\n"
          ],
          "name": "stdout"
        }
      ]
    },
    {
      "cell_type": "markdown",
      "metadata": {
        "id": "4FbHebrwcT_3"
      },
      "source": [
        "전에 결정트리에서 만든 특성 중요도는 [0.123456526,0.86862934,0.0079144]로 각각 알코올 도수, 당도, pH 였는데 두번째 특성인 당도의 중요도가 감소하고 알코올 도수와 pH 의 중요도가 조금 상승했다. 이런 이유는 린덤 포레스트가 특성의 일부를 랜덤하게 선택하여 결정 트리를 훈련하기 때문이다. 그 결과 하나의 특성에 과도하게 집중하지 않고 좀 더 많은 특성이 훈련에 기여할 기회를 얻는다. 이는 과대적합을 줄이고 일반화 성능을 높이는데 도움이 된다. \r\n",
        "\r\n",
        "- RandomForestClassifier에 자체적으로 모델을 평가하는 점수를 얻을 수 있다. \r\n",
        "랜덤 포레스트는 부트스트랩 샘플을 만들어 결정 트리를 훈련한다고 했다. 이때 부트스트랩 샘플에 포함되지 않고 남는 샘플이 있는데 이 샘플을 OOB라고 부른다. OOB를 이용해 부트스트랩 샘플로 훈련한 결정 트리를 평가할 수 있다. (검증세트처럼)\r\n",
        "\r\n",
        "이 점수를 얻으려면 RandomForestClassifier 클래스의 oob_score 매개변수를 true로 지정해야한다. "
      ]
    },
    {
      "cell_type": "code",
      "metadata": {
        "colab": {
          "base_uri": "https://localhost:8080/"
        },
        "id": "uEOBmHZVbjej",
        "outputId": "f8047d22-3867-4693-d31b-619b66379e54"
      },
      "source": [
        "rf=RandomForestClassifier(oob_score=True,n_jobs=-1,random_state=42)\r\n",
        "rf.fit(train_input,train_target)\r\n",
        "print(rf.oob_score_)"
      ],
      "execution_count": 5,
      "outputs": [
        {
          "output_type": "stream",
          "text": [
            "0.8934000384837406\n"
          ],
          "name": "stdout"
        }
      ]
    },
    {
      "cell_type": "markdown",
      "metadata": {
        "id": "4SqLMQUFeGX_"
      },
      "source": [
        "## 엑스트라 트리\r\n",
        "\r\n",
        "- 랜덤 포레스트와 매우 비슷하게 동작한다. 기본적으로 100개의 결정 트리를 훈련하고, 랜덤 포레스트와 동일하게 결정트리가 제공하는 대부분의 매개변수를 지원한다. 또한 전체 특성 중에 일부 특성을 랜덤하게 선택해 노드를 분할하는데 사용한다. \r\n",
        "\r\n",
        "- 랜덤포레스트와 엑스트라 트리의 차이점은 부트스트랩 샘플을 사용하지 않는 다는 점이다. 결정 트리를 만들 때 전체 훈련 세트를 사용한다. 대신 노드를 분할할 때 가장 좋은 분할을 찾는 것이 아니라 무작위로 분할한다. \r\n",
        "\r\n",
        "- 사이킷럿네엇 제공하는 엑스트라 트리는 ExtraTreesClassifier "
      ]
    },
    {
      "cell_type": "code",
      "metadata": {
        "colab": {
          "base_uri": "https://localhost:8080/"
        },
        "id": "bmalYAQGd8Zs",
        "outputId": "0998cc7b-00cb-404d-98be-60886736f214"
      },
      "source": [
        "from sklearn.ensemble import ExtraTreesClassifier\r\n",
        "et=ExtraTreesClassifier(n_jobs=-1,random_state=42)\r\n",
        "scores=cross_validate(et,train_input,train_target,return_train_score=True,n_jobs=-1)\r\n",
        "print(np.mean(scores['train_score']),np.mean(scores['test_score']))"
      ],
      "execution_count": 6,
      "outputs": [
        {
          "output_type": "stream",
          "text": [
            "0.9974503966084433 0.8887848893166506\n"
          ],
          "name": "stdout"
        }
      ]
    },
    {
      "cell_type": "code",
      "metadata": {
        "colab": {
          "base_uri": "https://localhost:8080/"
        },
        "id": "oTa8UOmXieL4",
        "outputId": "7e941f0c-64c2-4672-ad72-6920e468b05e"
      },
      "source": [
        "et.fit(train_input,train_target)\r\n",
        "print(et.feature_importances_)"
      ],
      "execution_count": 7,
      "outputs": [
        {
          "output_type": "stream",
          "text": [
            "[0.20183568 0.52242907 0.27573525]\n"
          ],
          "name": "stdout"
        }
      ]
    },
    {
      "cell_type": "markdown",
      "metadata": {
        "id": "WCnvJzZmYbY-"
      },
      "source": [
        "## 그레디언트 부스팅\r\n",
        "\r\n",
        "깊이가 얕은 결텅 트리를 사용해 이전 트리의 오차를 보완하는 방식으로 앙상블하는 방법이다. 사이킷런의 GradientCoostingClassifier은 기본적으로 깊이가 3인 결텅 트리를 100개 사용한다. 깊이가 얕은 결정 트리를 사용하기 때문에 과대 적합에 강하고 일반적으로 높은 일반화 성능을 기대할 수 있다. \r\n",
        "\r\n",
        "경사하강법을 사용해 트리앙상블에 추가하고 분류에서는 로지스틱 손실함수를 사용하고 회구에서는 평균 제곱 오차 함수를 사용한다."
      ]
    },
    {
      "cell_type": "code",
      "metadata": {
        "id": "5xMobjGpit5j",
        "colab": {
          "base_uri": "https://localhost:8080/"
        },
        "outputId": "2e73c3fd-18e3-4970-8756-9fa5e695babd"
      },
      "source": [
        "from sklearn.ensemble import GradientBoostingClassifier\r\n",
        "gb=GradientBoostingClassifier(random_state=42)\r\n",
        "scores=cross_validate(gb,train_input,train_target,return_train_score=True,n_jobs=-1)\r\n",
        "print(np.mean(scores['train_score']),np.mean(scores['test_score']))\r\n"
      ],
      "execution_count": 8,
      "outputs": [
        {
          "output_type": "stream",
          "text": [
            "0.8881086892152563 0.8720430147331015\n"
          ],
          "name": "stdout"
        }
      ]
    },
    {
      "cell_type": "code",
      "metadata": {
        "colab": {
          "base_uri": "https://localhost:8080/"
        },
        "id": "O4cdgLR6d9C-",
        "outputId": "b8032284-316b-4f34-d329-4a163ff0e96c"
      },
      "source": [
        "gb=GradientBoostingClassifier(n_estimators=500,learning_rate=0.2,random_state=42)\r\n",
        "scores=cross_validate(gb,train_input,train_target,return_train_score=True,n_jobs=-1)\r\n",
        "print(np.mean(scores['train_score']),np.mean(scores['test_score']))"
      ],
      "execution_count": 9,
      "outputs": [
        {
          "output_type": "stream",
          "text": [
            "0.9464595437171814 0.8780082549788999\n"
          ],
          "name": "stdout"
        }
      ]
    },
    {
      "cell_type": "markdown",
      "metadata": {
        "id": "fSiQe2-kh4rM"
      },
      "source": [
        "결정트리개수를 500개로 5배나 늘렸지만 과대적합을 잘 억제하고 있다. 학습률 elarning_rate의 기본 값은 0.1 이다. 그레디언트 부스팅도 특성 중요도를 제공한다. 결과에서 볼 수 있듯이 그레이디언트 부스팅이 랜덤 포레스트보다 일부 특성에 더 집중한다. "
      ]
    },
    {
      "cell_type": "code",
      "metadata": {
        "colab": {
          "base_uri": "https://localhost:8080/"
        },
        "id": "PhOPAkrRgNHc",
        "outputId": "dbad19a0-4a35-4746-c64e-57631c7d3640"
      },
      "source": [
        "gb.fit(train_input,train_target)\r\n",
        "print(gb.feature_importances_)"
      ],
      "execution_count": 10,
      "outputs": [
        {
          "output_type": "stream",
          "text": [
            "[0.15872278 0.68010884 0.16116839]\n"
          ],
          "name": "stdout"
        }
      ]
    },
    {
      "cell_type": "markdown",
      "metadata": {
        "id": "yIYjH3zRo48s"
      },
      "source": [
        "## 히스토그램 기반 그레이디언트 부스팅\r\n",
        "\r\n",
        "정형 데이터를 다루는 머신러닝 알고리즘 중에 가장 인기가 높다. \r\n",
        "히스토그램 기반 그레이디언트 부스팅은 먼저 입력 특성을 256개의 구간으로 나누고, 노드를 분할 할 때 최적의 분할을 매우 빠르게 찾을 수 있다. \r\n",
        "히스토그램 기반 그레이디언트 부스팅은 256 개의 구간중에서 하나르 ㄹ떠에 놓고 누락된 값을 위해 사용한다. 그래서 입력에 누락된 특성이 있더라도 이를 따로 전처리 할 필요가 없다. \r\n",
        "\r\n",
        "사이킷런의 히스토그램 기바 그레이디언트 부스팅 클래스는 HistoGradientBoostingClassifier 이다. \r\n",
        "트리의 개수를 지정하는데 n_estimators 대신에 부스팅 반복횟수를 지정하는 max_iter를 사용한다. 성능을 높이려며 max_iter 매개변수를 테스트하며 된다. "
      ]
    },
    {
      "cell_type": "code",
      "metadata": {
        "colab": {
          "base_uri": "https://localhost:8080/"
        },
        "id": "TNCI7cBFrMyo",
        "outputId": "06439d58-7371-4e29-d23a-b8b1cf189fa7"
      },
      "source": [
        "from sklearn.experimental import enable_hist_gradient_boosting\r\n",
        "from sklearn.ensemble import HistGradientBoostingClassifier\r\n",
        "hgb=HistGradientBoostingClassifier(random_state=42)\r\n",
        "scores=cross_validate(hgb,train_input,train_target,return_train_score=True)\r\n",
        "print(np.mean(scores['train_score']),np.mean(scores['train_score']))"
      ],
      "execution_count": 11,
      "outputs": [
        {
          "output_type": "stream",
          "text": [
            "0.9321723946453317 0.9321723946453317\n"
          ],
          "name": "stdout"
        }
      ]
    },
    {
      "cell_type": "markdown",
      "metadata": {
        "id": "_c_yc210sBFt"
      },
      "source": [
        "히스토그램 기반 그레이디언트 부스팅의 특성 중요도를 계산하기 위해 permutation_importances() 함수를 사용한다. 이 함수는 특성을 하나씩 래덤하게 섞어서 모델의 성능이 변화하는지를 관찰해 어떤 특성이 중요한지를 계산한다. \r\n",
        "\r\n",
        "n_repeats 매개변수는 랜덤하게 섞을 횟수를 지정한다.기본값은 5이다. "
      ]
    },
    {
      "cell_type": "code",
      "metadata": {
        "colab": {
          "base_uri": "https://localhost:8080/"
        },
        "id": "0a3AIsMLgxMv",
        "outputId": "499a840b-6d94-47d6-e32b-f74451abc3eb"
      },
      "source": [
        "from sklearn.inspection import permutation_importance\r\n",
        "\r\n",
        "hgb.fit(train_input,train_target)\r\n",
        "result=permutation_importance(hgb,train_input,train_target,n_repeats=10,random_state=42,n_jobs=-1)\r\n",
        "print(result.importances_mean)\r\n"
      ],
      "execution_count": 12,
      "outputs": [
        {
          "output_type": "stream",
          "text": [
            "[0.08876275 0.23438522 0.08027708]\n"
          ],
          "name": "stdout"
        }
      ]
    },
    {
      "cell_type": "markdown",
      "metadata": {
        "id": "oA06vVFgsuY0"
      },
      "source": [
        "특성중요도, 평균, 표준편차를 담고 있다. "
      ]
    },
    {
      "cell_type": "code",
      "metadata": {
        "colab": {
          "base_uri": "https://localhost:8080/"
        },
        "id": "aMt0nvE1sqgp",
        "outputId": "4de18ee9-2cfa-4307-db1f-34b4a3c17a24"
      },
      "source": [
        "#테스트 세트에서 특성 중요도\r\n",
        "result=permutation_importance(hgb,test_input,test_target,n_repeats=10,random_state=42,n_jobs=-1)\r\n",
        "print(result.importances_mean)"
      ],
      "execution_count": 13,
      "outputs": [
        {
          "output_type": "stream",
          "text": [
            "[0.05969231 0.20238462 0.049     ]\n"
          ],
          "name": "stdout"
        }
      ]
    },
    {
      "cell_type": "code",
      "metadata": {
        "colab": {
          "base_uri": "https://localhost:8080/"
        },
        "id": "sJLVjRGLs_oO",
        "outputId": "2d97a0ce-44c4-42ca-84a6-233c421b0b98"
      },
      "source": [
        "hgb.score(test_input,test_target)"
      ],
      "execution_count": 14,
      "outputs": [
        {
          "output_type": "execute_result",
          "data": {
            "text/plain": [
              "0.8723076923076923"
            ]
          },
          "metadata": {
            "tags": []
          },
          "execution_count": 14
        }
      ]
    },
    {
      "cell_type": "markdown",
      "metadata": {
        "id": "v9qf5IQiuIKp"
      },
      "source": [
        "약 87% 의 정확도를 얻었다 \r\n",
        "사이킷런의 HistGradientBoostingRegressor 클래스 말고도 XGBoost 라이브러리를 사용할수도 있다. "
      ]
    },
    {
      "cell_type": "code",
      "metadata": {
        "colab": {
          "base_uri": "https://localhost:8080/"
        },
        "id": "LPqeVVCFuDew",
        "outputId": "2dbc922b-a957-4d85-bc05-e231eabd6302"
      },
      "source": [
        "from xgboost import XGBClassifier\r\n",
        "xgb=XGBClassifier(tree_method='hist',random_state=42)\r\n",
        "scores=cross_validate(xgb,train_input,train_target,return_train_score=True)\r\n",
        "print(np.mean(scores['train_score']),np.mean(scores['test_score']))"
      ],
      "execution_count": 15,
      "outputs": [
        {
          "output_type": "stream",
          "text": [
            "0.8824322471423747 0.8726214185237284\n"
          ],
          "name": "stdout"
        }
      ]
    },
    {
      "cell_type": "markdown",
      "metadata": {
        "id": "MKTxFG8MuzMR"
      },
      "source": [
        "또 마이크로소프트에서 만든 LightGBM을 사용할수도 있다 빠르고 최신 기술을 많이 적용하고 있어 인기가 점점 높아지고 있다. "
      ]
    },
    {
      "cell_type": "code",
      "metadata": {
        "id": "_uoOgfa7uvgw"
      },
      "source": [
        "#LightGBM\r\n",
        "from lightgbm import LGBMClassifier\r\n",
        "lgb=LGBMClassifier(random_state=42)\r\n",
        "scores=cross_validate(lgb,train_input,train_target,return_train_score=True,n_jobs=-1)"
      ],
      "execution_count": 16,
      "outputs": []
    },
    {
      "cell_type": "code",
      "metadata": {
        "colab": {
          "base_uri": "https://localhost:8080/"
        },
        "id": "BhAQhGYyu74q",
        "outputId": "5a0c7f5a-b3be-47e8-ace3-43f9b9fb4f05"
      },
      "source": [
        "print(np.mean(scores['train_score']),np.mean(scores['test_score']))"
      ],
      "execution_count": 17,
      "outputs": [
        {
          "output_type": "stream",
          "text": [
            "0.9338079582727165 0.8789710890649293\n"
          ],
          "name": "stdout"
        }
      ]
    },
    {
      "cell_type": "code",
      "metadata": {
        "id": "v_9-jqZ9SWYy"
      },
      "source": [
        ""
      ],
      "execution_count": 17,
      "outputs": []
    }
  ]
}